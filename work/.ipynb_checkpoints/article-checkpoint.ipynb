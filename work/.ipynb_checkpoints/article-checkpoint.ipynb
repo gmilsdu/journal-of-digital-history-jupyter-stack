{
 "cells": [
  {
   "cell_type": "markdown",
   "id": "2d1098f9",
   "metadata": {
    "tags": [
     "title"
    ]
   },
   "source": [
    "# ‘Thanks for the moan!’ Disillusionment with the British sickness system, online and in print, 1997–2005"
   ]
  },
  {
   "cell_type": "markdown",
   "id": "9a2e477f",
   "metadata": {
    "tags": [
     "contributor"
    ]
   },
   "source": [
    " ### Gareth  Millward [![orcid](https://orcid.org/sites/default/files/images/orcid_16x16.png)](https://orcid.org/0000-0003-2833-0442) \n",
    "Danish Institute for Advanced Study, University of Southern Denmark"
   ]
  },
  {
   "cell_type": "markdown",
   "id": "f724919f",
   "metadata": {
    "tags": [
     "copyright"
    ]
   },
   "source": [
    "[![cc-by-nc-nd](https://licensebuttons.net/l/by-nc-nd/4.0/88x31.png)](https://creativecommons.org/licenses/by-nc-nd/4.0/) \n",
    "© Gareth Millward. Published by De Gruyter in cooperation with the University of Luxembourg Centre for Contemporary and Digital History. This is an Open Access article distributed under the terms of the [Creative Commons Attribution License CC-BY-NC-ND](https://creativecommons.org/licenses/by-nc-nd/4.0/)"
   ]
  },
  {
   "cell_type": "markdown",
   "id": "4f0d6a2c",
   "metadata": {
    "tags": [
     "disclaimer"
    ]
   },
   "source": [
    "The research presented in this article was funded by The Wellcome Trust (grant number: WT208075/Z/17/Z)."
   ]
  },
  {
   "cell_type": "markdown",
   "id": "597e571f",
   "metadata": {
    "tags": [
     "keywords"
    ]
   },
   "source": [
    "social security, welfare, Britain, Internet Archive, British Library, history of medicine"
   ]
  },
  {
   "cell_type": "markdown",
   "id": "76c56560",
   "metadata": {
    "tags": [
     "abstract"
    ]
   },
   "source": [
    "The turn of the millennium saw significant shifts in British social security and employment policy for sick and disabled people. On the one hand, European and anti-discrimination laws gave individuals greater protections. On the other, active-labour-market policies from the in-coming Labour government restricted access to disability-related social security; while employers were becoming increasingly concerned with how to manage absenteeism as flexible and “lean” employment practices led businesses to become even more intolerant of employees taking sick leave. Web archives offer a useful window onto how British citizens understood these processes. Workers who directly experienced sickness systems left evidence of their opinions on blogs and message boards. But so too did middle managers, as well as friends and relatives of those who had to negotiate sickness-related bureaucracies.\n",
    "\n",
    "This article combines evidence from the Internet Archive with journal articles, newspapers, and government procedural papers to show how New Labour’s sickness and disability policies fit within the longer history of the British welfare state. By adding archived web pages to the “traditional” sources in the writing of political, social, and cultural histories of Britain, it argues that new insights can be gained not just on how citizens experienced the welfare state but also how they understood changes relative to a remembered past. \n",
    "\n",
    "Despite the richness of these sources, however, they must be read critically and with methodological care. The search techniques used here to access blogs and message boards provided many examples of citizen engagement with sickness systems on the .uk top-level domain. But these were necessarily a fraction of all utterances about sickness that would have been made at the time. Furthermore, while historical actors “published” their thoughts by volunteering information on the public internet, they had no reasonable expectation that their messages would be held for so long in an archive – or that they might realistically be read by a wide audience, mediated through an academic paper. At the very least, this paper discusses citizens’ writings about their experiences without informed consent. The article thus concludes with discussion of these methodological considerations and why it remains important to “triangulate” with non-web-archival evidence, especially for the early mass-web-usage period. "
   ]
  },
  {
   "cell_type": "markdown",
   "id": "3ee1a549",
   "metadata": {},
   "source": [
    "## Introduction"
   ]
  },
  {
   "cell_type": "markdown",
   "id": "c39b0e9a",
   "metadata": {},
   "source": [
    "It is March 2003 somewhere in Britain, and a middle manager is furious. ‘There’s a guy in my work place who is just taking liberties’, she fumes. Despite already having three weeks absence that year due to sickness, he now wants time off to go on a holiday to the Caribbean. According to the manager, this employee is aggressive when confronted and abusing the firm’s sick leave policies. She feels she is not getting enough support from higher management. ‘This guy is now off work due to illness… wait for it… you’ll like this… for a boil on his bum!’, she fumes. ‘Thing is, my boss believes this rubbish.’ Having taken to the Femail message board to therapeutically recount this story, she signs off ‘thanks for the moan! I shall have to put up and shut up.’ \n",
    "\n",
    "The manager was not the only one to doubt the seriousness of her subordinates’ medical complaints. Trade journals for managers and human resources departments provided endless advice for those worried about the levels of absenteeism in their firms. The Daily Mail, the right-wing tabloid that owned Femail, bemoaned the existence of ‘Sick-note Britain’ (<cite data-cite=\"1787664/QEP4R77C\"></cite>), a country where everyone could purportedly find an excuse not to work. Meanwhile the New Labour government, mindful of its reputation as a ‘soft touch’ on unions and workers during the economic strife of the 1970s, wanted to assert itself as a fiscally responsible party by introducing new incentives to sick people to find or retain work. This Femail message board post is therefore an echo of a much wider phenomenon – a rich window onto sickness and absenteeism in Britain in the 2000s.\n",
    "\n",
    "This article uses webpages from the Internet Archive to corroborate and expand upon a cultural history of British medical certification at the turn of the millennium. It comes as part of a wider project analysing the meaning of ‘sick notes’ in Britain since the Second World War. As such, it seeks to promote web archives to historians who do not consider themselves digital specialists, while also serving as an example of how such research can be done. As more Britons gained access to the web and began to publish details of their lives online, so did the internet become an overwhelmingly rich source for cultural and social histories. Therefore, it is vital that contemporary historians make use of this material.\n",
    "\n",
    "But this article is also a warning about some of the pitfalls of this approach. In particular, the methodological and ethical problems raised by using web archives for close-reading qualitative analysis – especially those discussing potentially sensitive medical information – must be considered in detail. Borrowing from the work of digital historians, social scientists, and oral historians, the article argues that such work is possible and richly rewarding; but it must obey fundamental principles of respect for those people historians write about."
   ]
  },
  {
   "cell_type": "markdown",
   "id": "550decb5",
   "metadata": {
    "tags": [
     "hermeneutics"
    ]
   },
   "source": [
    "## I stop at 1995 because I don't want to read emails\n"
   ]
  },
  {
   "cell_type": "markdown",
   "id": "bf0dbde0",
   "metadata": {
    "tags": [
     "hermeneutics"
    ]
   },
   "source": [
    "A colleague once said this to me. While clearly joking, there was a hard truth behind the words. There has been a reluctance from contemporary historians who have worked on the 1980s, 1970s or earlier to engage with the more-recent past, especially when this requires deeper investigation into born-digital sources such as archived web pages or personal data.\n",
    "This assertion requires a caveat. There have been several histories that span the pre- and post-World Wide Web worlds that do make use of official documents, journals, audio/visual sources and newspaper articles from various bodies, many of which, even if they were printed, the authors probably never saw in physical form (e.g. <cite data-cite=\"1787664/LJ6RX8WQ\"></cite>, <cite data-cite=\"1787664/L4XIVCL5\"></cite>). Yet, these documents often have an obvious “pre-digital” equivalent and are therefore easier to integrate into longer-term analyses.\n",
    "\n",
    "The archived web is much more slippery in this regard, and often harder for historians to access methodologically and technically than official sources with clearer digital and non-digital “paper trials”. This explains some of the trepidation. It is difficult to blame any one factor, but a combination of these are likely to be at play for any individual historian: lack of confidence in using web archives; a lack of skills in digital history; difficulty in assigning relative weight between digital and non-digital research methods; the relative recency of the period covered by web archives; an abundance of “traditional” material with which one can still forge a solid research career; or a lack of knowledge about web archives and their potential (see <cite data-cite=\"1787664/NNT86VKV\"></cite>, <cite data-cite=\"1787664/L2WZI32J\"></cite>).\n",
    "\n",
    "The knowledge and skills gaps might be overcome by training and practical demonstration of the worth of web archives in contemporary historical scholarship – though structural factors in academia about the time and resources available to run and undertake that training are also, of course, significant barriers. However, the “relative recency” issue is increasingly difficult to justify. This is not a challenge confined to digital history. Past & Present and Selskabet for Samtidshistorisk Forskning have both noted that historians have been slow to embrace histories of the 1990s, especially relative the speed at which 1980s histories were published (<cite data-cite=\"1787664/XWA64DIX\"></cite>, <cite data-cite=\"1787664/VYK4CPD8\"></cite>). But even the informal “thirty-year rule” – a traditional waiting period in contemporary British history, named after the embargo period for procedural civil service documents instituted in the 1950s (<cite data-cite=\"1787664/HMVH9RQH\"></cite>) – takes us back to 1993. The new “twenty-year rule” for official documents and Freedom of Information legislation is now fully implemented (<cite data-cite=\"1787664/RTIJXA7B\"></cite>) and brings contemporary British history firmly into the twenty-first century. Even temporally conservative historians must soon acknowledge that British residents’ activities on the internet are historical in nature."
   ]
  },
  {
   "cell_type": "markdown",
   "id": "30189292",
   "metadata": {},
   "source": [
    "## The historiographical problem"
   ]
  },
  {
   "cell_type": "markdown",
   "id": "7d7d0e7a",
   "metadata": {},
   "source": [
    "Absenteeism had long been a concern of government and employers. Quoted as the difference between the number of hours employees were contracted to work relative to the number of hours actually worked, it represented economic inefficiency (<cite data-cite=\"1787664/UGAJFFXF\"></cite>, <cite data-cite=\"1787664/PYB3MHWP\"></cite>). Some absenteeism was unacceptable and a breach of employment conditions – such as skipping work to spend more time on holiday or on leisure pursuits. Some was legally protected, such as the right to strike. However, there was also “authorised absenteeism” in the form of sick leave. All accepted the right, indeed the necessity, for sick employees to rest and recuperate away from work. But there were constant discussions about how sick someone needed to be to justify worklessness. How would you prove such a state? What was the right balance between disciplining workers and destroying the good will between management and staff? Whatever the answers to these conundrums, it was clear that sickness absence was a constant bugbear; and always “too high” (<cite data-cite=\"1787664/PYB3MHWP\"></cite>).\n",
    "\n",
    "Indeed, the formation of the British postwar welfare state had explicitly sought to address the problems around health and productivity by collectivising the risks of economic inactivity through providing universal health care and insurance-related sickness benefits (<cite data-cite=\"1787664/AGQID8I3\"></cite>). On the macro level, Britain needed higher economic output to rebuild the nation and pay off its debts arising from the Second World War. On the micro level, managers regularly complained about individuals who appeared to be abusing sick leave and sick pay systems, often generalising these anecdotes to the overall working population. These tensions continued throughout the twentieth century, with changing economic priorities, new technologies, deindustrialisation, and the rise of self-employment and the gig economy. Various reforms were made to medical certification to try to provide enough protection to those who ‘deserved’ it and enough incentive to remain at work for those who did not (<cite data-cite=\"1787664/K78EW9JM\"></cite>). Doctors sought to reduce the workload caused by certification, while governments designed new tests for long-term sickness and disability. Still, it was inevitable that such lines could not be easily drawn by regulations. And so, the period is littered with debates and opinions expressed in newspaper articles, political speeches, comedy sketches, and innuendos about sickness, those who claimed sickness-related benefits, and what all this meant for the British nation (<cite data-cite=\"1787664/738XKCDW\"></cite>).\n",
    "\n",
    "Two things therefore remain true into the twenty-first century. First, medical absenteeism was a live political issue. Second, people from all constituencies expressed their thoughts on this problem. Given the rise in internet usage from the beginning of the millennium (see figure 1), it stands to reason that many of these utterances would have been published on the World Wide Web and would therefore be stored in web archives. Furthermore, any historical project seeking to understand the cultural meaning of medical absenteeism across the postwar period must consider web archives as an important source.\n",
    "\n",
    "This article is an example of using such sources. It was conducted as part of a wider research project into sickness certification since the Second World War (<cite data-cite=\"1787664/738XKCDW\"></cite>), seeking answers about how Britons in the twenty-first century experienced the procedures around authorising their sick leave. This article concentrates on the first two New Labour governments (1997 to 2005), a time of considerable changes in the British welfare state, including around employment, disability, and health policy (<cite data-cite=\"1787664/N7UW3XW3\"></cite>, <cite data-cite=\"1787664/JA3A9EYG\"></cite>). This was also a period before mass social media usage and provided a manageable corpus of material to analyse. The next section details this history, showing how web archives added to the understanding and analysis of sickness certification in this era. In the hermeneutics layer, the reader will find specific details of how these sources were collated and analysed. The article then concludes with some reflections on the methodological and ethical challenges of this approach, including discussion about how the research could have been improved."
   ]
  },
  {
   "cell_type": "code",
   "execution_count": 3,
   "id": "e174312f",
   "metadata": {
    "jdh": {
     "object": {
      "source": [
       "UNData, 'Percentage of individuals using the Internet', UNData (2016), https://data.un.org/Data.aspx?q=internet&d=ITU&f=ind1Code%3aI99H",
       "Copyright UNData. All data and metadata provided on UNdata’s website are available free of charge and may be copied freely, duplicated and further distributed provided that UNdata is cited as the reference. See: https://data.un.org/Host.aspx?Content=UNdataUse"
      ]
     }
    },
    "scrolled": false,
    "tags": [
     "figure-1"
    ]
   },
   "outputs": [
    {
     "data": {
      "text/html": [
       "<div class=\"bk-root\">\n",
       "        <a href=\"https://bokeh.org\" target=\"_blank\" class=\"bk-logo bk-logo-small bk-logo-notebook\"></a>\n",
       "        <span id=\"1048\">Loading BokehJS ...</span>\n",
       "    </div>\n"
      ]
     },
     "metadata": {},
     "output_type": "display_data"
    },
    {
     "data": {
      "application/javascript": [
       "(function(root) {\n",
       "  function now() {\n",
       "    return new Date();\n",
       "  }\n",
       "\n",
       "  const force = true;\n",
       "\n",
       "  if (typeof root._bokeh_onload_callbacks === \"undefined\" || force === true) {\n",
       "    root._bokeh_onload_callbacks = [];\n",
       "    root._bokeh_is_loading = undefined;\n",
       "  }\n",
       "\n",
       "const JS_MIME_TYPE = 'application/javascript';\n",
       "  const HTML_MIME_TYPE = 'text/html';\n",
       "  const EXEC_MIME_TYPE = 'application/vnd.bokehjs_exec.v0+json';\n",
       "  const CLASS_NAME = 'output_bokeh rendered_html';\n",
       "\n",
       "  /**\n",
       "   * Render data to the DOM node\n",
       "   */\n",
       "  function render(props, node) {\n",
       "    const script = document.createElement(\"script\");\n",
       "    node.appendChild(script);\n",
       "  }\n",
       "\n",
       "  /**\n",
       "   * Handle when an output is cleared or removed\n",
       "   */\n",
       "  function handleClearOutput(event, handle) {\n",
       "    const cell = handle.cell;\n",
       "\n",
       "    const id = cell.output_area._bokeh_element_id;\n",
       "    const server_id = cell.output_area._bokeh_server_id;\n",
       "    // Clean up Bokeh references\n",
       "    if (id != null && id in Bokeh.index) {\n",
       "      Bokeh.index[id].model.document.clear();\n",
       "      delete Bokeh.index[id];\n",
       "    }\n",
       "\n",
       "    if (server_id !== undefined) {\n",
       "      // Clean up Bokeh references\n",
       "      const cmd_clean = \"from bokeh.io.state import curstate; print(curstate().uuid_to_server['\" + server_id + \"'].get_sessions()[0].document.roots[0]._id)\";\n",
       "      cell.notebook.kernel.execute(cmd_clean, {\n",
       "        iopub: {\n",
       "          output: function(msg) {\n",
       "            const id = msg.content.text.trim();\n",
       "            if (id in Bokeh.index) {\n",
       "              Bokeh.index[id].model.document.clear();\n",
       "              delete Bokeh.index[id];\n",
       "            }\n",
       "          }\n",
       "        }\n",
       "      });\n",
       "      // Destroy server and session\n",
       "      const cmd_destroy = \"import bokeh.io.notebook as ion; ion.destroy_server('\" + server_id + \"')\";\n",
       "      cell.notebook.kernel.execute(cmd_destroy);\n",
       "    }\n",
       "  }\n",
       "\n",
       "  /**\n",
       "   * Handle when a new output is added\n",
       "   */\n",
       "  function handleAddOutput(event, handle) {\n",
       "    const output_area = handle.output_area;\n",
       "    const output = handle.output;\n",
       "\n",
       "    // limit handleAddOutput to display_data with EXEC_MIME_TYPE content only\n",
       "    if ((output.output_type != \"display_data\") || (!Object.prototype.hasOwnProperty.call(output.data, EXEC_MIME_TYPE))) {\n",
       "      return\n",
       "    }\n",
       "\n",
       "    const toinsert = output_area.element.find(\".\" + CLASS_NAME.split(' ')[0]);\n",
       "\n",
       "    if (output.metadata[EXEC_MIME_TYPE][\"id\"] !== undefined) {\n",
       "      toinsert[toinsert.length - 1].firstChild.textContent = output.data[JS_MIME_TYPE];\n",
       "      // store reference to embed id on output_area\n",
       "      output_area._bokeh_element_id = output.metadata[EXEC_MIME_TYPE][\"id\"];\n",
       "    }\n",
       "    if (output.metadata[EXEC_MIME_TYPE][\"server_id\"] !== undefined) {\n",
       "      const bk_div = document.createElement(\"div\");\n",
       "      bk_div.innerHTML = output.data[HTML_MIME_TYPE];\n",
       "      const script_attrs = bk_div.children[0].attributes;\n",
       "      for (let i = 0; i < script_attrs.length; i++) {\n",
       "        toinsert[toinsert.length - 1].firstChild.setAttribute(script_attrs[i].name, script_attrs[i].value);\n",
       "        toinsert[toinsert.length - 1].firstChild.textContent = bk_div.children[0].textContent\n",
       "      }\n",
       "      // store reference to server id on output_area\n",
       "      output_area._bokeh_server_id = output.metadata[EXEC_MIME_TYPE][\"server_id\"];\n",
       "    }\n",
       "  }\n",
       "\n",
       "  function register_renderer(events, OutputArea) {\n",
       "\n",
       "    function append_mime(data, metadata, element) {\n",
       "      // create a DOM node to render to\n",
       "      const toinsert = this.create_output_subarea(\n",
       "        metadata,\n",
       "        CLASS_NAME,\n",
       "        EXEC_MIME_TYPE\n",
       "      );\n",
       "      this.keyboard_manager.register_events(toinsert);\n",
       "      // Render to node\n",
       "      const props = {data: data, metadata: metadata[EXEC_MIME_TYPE]};\n",
       "      render(props, toinsert[toinsert.length - 1]);\n",
       "      element.append(toinsert);\n",
       "      return toinsert\n",
       "    }\n",
       "\n",
       "    /* Handle when an output is cleared or removed */\n",
       "    events.on('clear_output.CodeCell', handleClearOutput);\n",
       "    events.on('delete.Cell', handleClearOutput);\n",
       "\n",
       "    /* Handle when a new output is added */\n",
       "    events.on('output_added.OutputArea', handleAddOutput);\n",
       "\n",
       "    /**\n",
       "     * Register the mime type and append_mime function with output_area\n",
       "     */\n",
       "    OutputArea.prototype.register_mime_type(EXEC_MIME_TYPE, append_mime, {\n",
       "      /* Is output safe? */\n",
       "      safe: true,\n",
       "      /* Index of renderer in `output_area.display_order` */\n",
       "      index: 0\n",
       "    });\n",
       "  }\n",
       "\n",
       "  // register the mime type if in Jupyter Notebook environment and previously unregistered\n",
       "  if (root.Jupyter !== undefined) {\n",
       "    const events = require('base/js/events');\n",
       "    const OutputArea = require('notebook/js/outputarea').OutputArea;\n",
       "\n",
       "    if (OutputArea.prototype.mime_types().indexOf(EXEC_MIME_TYPE) == -1) {\n",
       "      register_renderer(events, OutputArea);\n",
       "    }\n",
       "  }\n",
       "  if (typeof (root._bokeh_timeout) === \"undefined\" || force === true) {\n",
       "    root._bokeh_timeout = Date.now() + 5000;\n",
       "    root._bokeh_failed_load = false;\n",
       "  }\n",
       "\n",
       "  const NB_LOAD_WARNING = {'data': {'text/html':\n",
       "     \"<div style='background-color: #fdd'>\\n\"+\n",
       "     \"<p>\\n\"+\n",
       "     \"BokehJS does not appear to have successfully loaded. If loading BokehJS from CDN, this \\n\"+\n",
       "     \"may be due to a slow or bad network connection. Possible fixes:\\n\"+\n",
       "     \"</p>\\n\"+\n",
       "     \"<ul>\\n\"+\n",
       "     \"<li>re-rerun `output_notebook()` to attempt to load from CDN again, or</li>\\n\"+\n",
       "     \"<li>use INLINE resources instead, as so:</li>\\n\"+\n",
       "     \"</ul>\\n\"+\n",
       "     \"<code>\\n\"+\n",
       "     \"from bokeh.resources import INLINE\\n\"+\n",
       "     \"output_notebook(resources=INLINE)\\n\"+\n",
       "     \"</code>\\n\"+\n",
       "     \"</div>\"}};\n",
       "\n",
       "  function display_loaded() {\n",
       "    const el = document.getElementById(\"1048\");\n",
       "    if (el != null) {\n",
       "      el.textContent = \"BokehJS is loading...\";\n",
       "    }\n",
       "    if (root.Bokeh !== undefined) {\n",
       "      if (el != null) {\n",
       "        el.textContent = \"BokehJS \" + root.Bokeh.version + \" successfully loaded.\";\n",
       "      }\n",
       "    } else if (Date.now() < root._bokeh_timeout) {\n",
       "      setTimeout(display_loaded, 100)\n",
       "    }\n",
       "  }\n",
       "\n",
       "  function run_callbacks() {\n",
       "    try {\n",
       "      root._bokeh_onload_callbacks.forEach(function(callback) {\n",
       "        if (callback != null)\n",
       "          callback();\n",
       "      });\n",
       "    } finally {\n",
       "      delete root._bokeh_onload_callbacks\n",
       "    }\n",
       "    console.debug(\"Bokeh: all callbacks have finished\");\n",
       "  }\n",
       "\n",
       "  function load_libs(css_urls, js_urls, callback) {\n",
       "    if (css_urls == null) css_urls = [];\n",
       "    if (js_urls == null) js_urls = [];\n",
       "\n",
       "    root._bokeh_onload_callbacks.push(callback);\n",
       "    if (root._bokeh_is_loading > 0) {\n",
       "      console.debug(\"Bokeh: BokehJS is being loaded, scheduling callback at\", now());\n",
       "      return null;\n",
       "    }\n",
       "    if (js_urls == null || js_urls.length === 0) {\n",
       "      run_callbacks();\n",
       "      return null;\n",
       "    }\n",
       "    console.debug(\"Bokeh: BokehJS not loaded, scheduling load and callback at\", now());\n",
       "    root._bokeh_is_loading = css_urls.length + js_urls.length;\n",
       "\n",
       "    function on_load() {\n",
       "      root._bokeh_is_loading--;\n",
       "      if (root._bokeh_is_loading === 0) {\n",
       "        console.debug(\"Bokeh: all BokehJS libraries/stylesheets loaded\");\n",
       "        run_callbacks()\n",
       "      }\n",
       "    }\n",
       "\n",
       "    function on_error(url) {\n",
       "      console.error(\"failed to load \" + url);\n",
       "    }\n",
       "\n",
       "    for (let i = 0; i < css_urls.length; i++) {\n",
       "      const url = css_urls[i];\n",
       "      const element = document.createElement(\"link\");\n",
       "      element.onload = on_load;\n",
       "      element.onerror = on_error.bind(null, url);\n",
       "      element.rel = \"stylesheet\";\n",
       "      element.type = \"text/css\";\n",
       "      element.href = url;\n",
       "      console.debug(\"Bokeh: injecting link tag for BokehJS stylesheet: \", url);\n",
       "      document.body.appendChild(element);\n",
       "    }\n",
       "\n",
       "    for (let i = 0; i < js_urls.length; i++) {\n",
       "      const url = js_urls[i];\n",
       "      const element = document.createElement('script');\n",
       "      element.onload = on_load;\n",
       "      element.onerror = on_error.bind(null, url);\n",
       "      element.async = false;\n",
       "      element.src = url;\n",
       "      console.debug(\"Bokeh: injecting script tag for BokehJS library: \", url);\n",
       "      document.head.appendChild(element);\n",
       "    }\n",
       "  };\n",
       "\n",
       "  function inject_raw_css(css) {\n",
       "    const element = document.createElement(\"style\");\n",
       "    element.appendChild(document.createTextNode(css));\n",
       "    document.body.appendChild(element);\n",
       "  }\n",
       "\n",
       "  const js_urls = [\"https://cdn.bokeh.org/bokeh/release/bokeh-2.4.3.min.js\", \"https://cdn.bokeh.org/bokeh/release/bokeh-gl-2.4.3.min.js\", \"https://cdn.bokeh.org/bokeh/release/bokeh-widgets-2.4.3.min.js\", \"https://cdn.bokeh.org/bokeh/release/bokeh-tables-2.4.3.min.js\", \"https://cdn.bokeh.org/bokeh/release/bokeh-mathjax-2.4.3.min.js\"];\n",
       "  const css_urls = [];\n",
       "\n",
       "  const inline_js = [    function(Bokeh) {\n",
       "      Bokeh.set_log_level(\"info\");\n",
       "    },\n",
       "function(Bokeh) {\n",
       "    }\n",
       "  ];\n",
       "\n",
       "  function run_inline_js() {\n",
       "    if (root.Bokeh !== undefined || force === true) {\n",
       "          for (let i = 0; i < inline_js.length; i++) {\n",
       "      inline_js[i].call(root, root.Bokeh);\n",
       "    }\n",
       "if (force === true) {\n",
       "        display_loaded();\n",
       "      }} else if (Date.now() < root._bokeh_timeout) {\n",
       "      setTimeout(run_inline_js, 100);\n",
       "    } else if (!root._bokeh_failed_load) {\n",
       "      console.log(\"Bokeh: BokehJS failed to load within specified timeout.\");\n",
       "      root._bokeh_failed_load = true;\n",
       "    } else if (force !== true) {\n",
       "      const cell = $(document.getElementById(\"1048\")).parents('.cell').data().cell;\n",
       "      cell.output_area.append_execute_result(NB_LOAD_WARNING)\n",
       "    }\n",
       "  }\n",
       "\n",
       "  if (root._bokeh_is_loading === 0) {\n",
       "    console.debug(\"Bokeh: BokehJS loaded, going straight to plotting\");\n",
       "    run_inline_js();\n",
       "  } else {\n",
       "    load_libs(css_urls, js_urls, function() {\n",
       "      console.debug(\"Bokeh: BokehJS plotting callback run at\", now());\n",
       "      run_inline_js();\n",
       "    });\n",
       "  }\n",
       "}(window));"
      ],
      "application/vnd.bokehjs_load.v0+json": "(function(root) {\n  function now() {\n    return new Date();\n  }\n\n  const force = true;\n\n  if (typeof root._bokeh_onload_callbacks === \"undefined\" || force === true) {\n    root._bokeh_onload_callbacks = [];\n    root._bokeh_is_loading = undefined;\n  }\n\n\n  if (typeof (root._bokeh_timeout) === \"undefined\" || force === true) {\n    root._bokeh_timeout = Date.now() + 5000;\n    root._bokeh_failed_load = false;\n  }\n\n  const NB_LOAD_WARNING = {'data': {'text/html':\n     \"<div style='background-color: #fdd'>\\n\"+\n     \"<p>\\n\"+\n     \"BokehJS does not appear to have successfully loaded. If loading BokehJS from CDN, this \\n\"+\n     \"may be due to a slow or bad network connection. Possible fixes:\\n\"+\n     \"</p>\\n\"+\n     \"<ul>\\n\"+\n     \"<li>re-rerun `output_notebook()` to attempt to load from CDN again, or</li>\\n\"+\n     \"<li>use INLINE resources instead, as so:</li>\\n\"+\n     \"</ul>\\n\"+\n     \"<code>\\n\"+\n     \"from bokeh.resources import INLINE\\n\"+\n     \"output_notebook(resources=INLINE)\\n\"+\n     \"</code>\\n\"+\n     \"</div>\"}};\n\n  function display_loaded() {\n    const el = document.getElementById(\"1048\");\n    if (el != null) {\n      el.textContent = \"BokehJS is loading...\";\n    }\n    if (root.Bokeh !== undefined) {\n      if (el != null) {\n        el.textContent = \"BokehJS \" + root.Bokeh.version + \" successfully loaded.\";\n      }\n    } else if (Date.now() < root._bokeh_timeout) {\n      setTimeout(display_loaded, 100)\n    }\n  }\n\n  function run_callbacks() {\n    try {\n      root._bokeh_onload_callbacks.forEach(function(callback) {\n        if (callback != null)\n          callback();\n      });\n    } finally {\n      delete root._bokeh_onload_callbacks\n    }\n    console.debug(\"Bokeh: all callbacks have finished\");\n  }\n\n  function load_libs(css_urls, js_urls, callback) {\n    if (css_urls == null) css_urls = [];\n    if (js_urls == null) js_urls = [];\n\n    root._bokeh_onload_callbacks.push(callback);\n    if (root._bokeh_is_loading > 0) {\n      console.debug(\"Bokeh: BokehJS is being loaded, scheduling callback at\", now());\n      return null;\n    }\n    if (js_urls == null || js_urls.length === 0) {\n      run_callbacks();\n      return null;\n    }\n    console.debug(\"Bokeh: BokehJS not loaded, scheduling load and callback at\", now());\n    root._bokeh_is_loading = css_urls.length + js_urls.length;\n\n    function on_load() {\n      root._bokeh_is_loading--;\n      if (root._bokeh_is_loading === 0) {\n        console.debug(\"Bokeh: all BokehJS libraries/stylesheets loaded\");\n        run_callbacks()\n      }\n    }\n\n    function on_error(url) {\n      console.error(\"failed to load \" + url);\n    }\n\n    for (let i = 0; i < css_urls.length; i++) {\n      const url = css_urls[i];\n      const element = document.createElement(\"link\");\n      element.onload = on_load;\n      element.onerror = on_error.bind(null, url);\n      element.rel = \"stylesheet\";\n      element.type = \"text/css\";\n      element.href = url;\n      console.debug(\"Bokeh: injecting link tag for BokehJS stylesheet: \", url);\n      document.body.appendChild(element);\n    }\n\n    for (let i = 0; i < js_urls.length; i++) {\n      const url = js_urls[i];\n      const element = document.createElement('script');\n      element.onload = on_load;\n      element.onerror = on_error.bind(null, url);\n      element.async = false;\n      element.src = url;\n      console.debug(\"Bokeh: injecting script tag for BokehJS library: \", url);\n      document.head.appendChild(element);\n    }\n  };\n\n  function inject_raw_css(css) {\n    const element = document.createElement(\"style\");\n    element.appendChild(document.createTextNode(css));\n    document.body.appendChild(element);\n  }\n\n  const js_urls = [\"https://cdn.bokeh.org/bokeh/release/bokeh-2.4.3.min.js\", \"https://cdn.bokeh.org/bokeh/release/bokeh-gl-2.4.3.min.js\", \"https://cdn.bokeh.org/bokeh/release/bokeh-widgets-2.4.3.min.js\", \"https://cdn.bokeh.org/bokeh/release/bokeh-tables-2.4.3.min.js\", \"https://cdn.bokeh.org/bokeh/release/bokeh-mathjax-2.4.3.min.js\"];\n  const css_urls = [];\n\n  const inline_js = [    function(Bokeh) {\n      Bokeh.set_log_level(\"info\");\n    },\nfunction(Bokeh) {\n    }\n  ];\n\n  function run_inline_js() {\n    if (root.Bokeh !== undefined || force === true) {\n          for (let i = 0; i < inline_js.length; i++) {\n      inline_js[i].call(root, root.Bokeh);\n    }\nif (force === true) {\n        display_loaded();\n      }} else if (Date.now() < root._bokeh_timeout) {\n      setTimeout(run_inline_js, 100);\n    } else if (!root._bokeh_failed_load) {\n      console.log(\"Bokeh: BokehJS failed to load within specified timeout.\");\n      root._bokeh_failed_load = true;\n    } else if (force !== true) {\n      const cell = $(document.getElementById(\"1048\")).parents('.cell').data().cell;\n      cell.output_area.append_execute_result(NB_LOAD_WARNING)\n    }\n  }\n\n  if (root._bokeh_is_loading === 0) {\n    console.debug(\"Bokeh: BokehJS loaded, going straight to plotting\");\n    run_inline_js();\n  } else {\n    load_libs(css_urls, js_urls, function() {\n      console.debug(\"Bokeh: BokehJS plotting callback run at\", now());\n      run_inline_js();\n    });\n  }\n}(window));"
     },
     "metadata": {},
     "output_type": "display_data"
    },
    {
     "data": {
      "text/html": [
       "\n",
       "  <div class=\"bk-root\" id=\"2d30a1b1-717b-4bc4-98b0-81d2e7970de2\" data-root-id=\"1009\"></div>\n"
      ]
     },
     "metadata": {},
     "output_type": "display_data"
    },
    {
     "data": {
      "application/javascript": [
       "(function(root) {\n",
       "  function embed_document(root) {\n",
       "  const docs_json = {\"9dcc6c8b-fc81-4cbb-b270-b3177fad01c9\":{\"defs\":[],\"roots\":{\"references\":[{\"attributes\":{\"below\":[{\"id\":\"1020\"},{\"id\":\"1046\"}],\"center\":[{\"id\":\"1023\"},{\"id\":\"1027\"}],\"left\":[{\"id\":\"1024\"},{\"id\":\"1047\"}],\"renderers\":[{\"id\":\"1038\"},{\"id\":\"1044\"}],\"title\":{\"id\":\"1010\"},\"toolbar\":{\"id\":\"1029\"},\"x_range\":{\"id\":\"1012\"},\"x_scale\":{\"id\":\"1016\"},\"y_range\":{\"id\":\"1014\"},\"y_scale\":{\"id\":\"1018\"}},\"id\":\"1009\",\"subtype\":\"Figure\",\"type\":\"Plot\"},{\"attributes\":{},\"id\":\"1018\",\"type\":\"LinearScale\"},{\"attributes\":{\"coordinates\":null,\"data_source\":{\"id\":\"1004\"},\"glyph\":{\"id\":\"1035\"},\"group\":null,\"hover_glyph\":null,\"muted_glyph\":{\"id\":\"1037\"},\"nonselection_glyph\":{\"id\":\"1036\"},\"view\":{\"id\":\"1039\"}},\"id\":\"1038\",\"type\":\"GlyphRenderer\"},{\"attributes\":{\"callback\":null,\"tooltips\":[[\"Year\",\"@Year\"],[\"Value\",\"@Value\"],[\"Description\",\"@Description\"]]},\"id\":\"1005\",\"type\":\"HoverTool\"},{\"attributes\":{\"coordinates\":null,\"formatter\":{\"id\":\"1054\"},\"group\":null,\"major_label_policy\":{\"id\":\"1055\"},\"ticker\":{\"id\":\"1021\"}},\"id\":\"1020\",\"type\":\"LinearAxis\"},{\"attributes\":{},\"id\":\"1054\",\"type\":\"BasicTickFormatter\"},{\"attributes\":{\"fill_color\":{\"value\":\"#1f77b4\"},\"line_color\":{\"value\":\"#1f77b4\"},\"size\":{\"value\":15},\"x\":{\"field\":\"Year\"},\"y\":{\"field\":\"Value\"}},\"id\":\"1041\",\"type\":\"Circle\"},{\"attributes\":{},\"id\":\"1021\",\"type\":\"BasicTicker\"},{\"attributes\":{},\"id\":\"1057\",\"type\":\"Selection\"},{\"attributes\":{\"align\":\"center\",\"coordinates\":null,\"group\":null,\"text\":\"Percentage of UK population\"},\"id\":\"1047\",\"type\":\"Title\"},{\"attributes\":{\"axis\":{\"id\":\"1024\"},\"coordinates\":null,\"dimension\":1,\"group\":null,\"ticker\":null},\"id\":\"1027\",\"type\":\"Grid\"},{\"attributes\":{\"fill_alpha\":{\"value\":0.1},\"fill_color\":{\"value\":\"#1f77b4\"},\"hatch_alpha\":{\"value\":0.1},\"line_alpha\":{\"value\":0.1},\"line_color\":{\"value\":\"#1f77b4\"},\"size\":{\"value\":15},\"x\":{\"field\":\"Year\"},\"y\":{\"field\":\"Value\"}},\"id\":\"1042\",\"type\":\"Circle\"},{\"attributes\":{},\"id\":\"1055\",\"type\":\"AllLabels\"},{\"attributes\":{\"axis\":{\"id\":\"1020\"},\"coordinates\":null,\"group\":null,\"ticker\":null},\"id\":\"1023\",\"type\":\"Grid\"},{\"attributes\":{\"align\":\"center\",\"coordinates\":null,\"group\":null,\"text\":\"Year\"},\"id\":\"1046\",\"type\":\"Title\"},{\"attributes\":{},\"id\":\"1007\",\"type\":\"PanTool\"},{\"attributes\":{},\"id\":\"1012\",\"type\":\"DataRange1d\"},{\"attributes\":{},\"id\":\"1008\",\"type\":\"WheelZoomTool\"},{\"attributes\":{},\"id\":\"1052\",\"type\":\"AllLabels\"},{\"attributes\":{\"line_alpha\":0.2,\"line_color\":\"#1f77b4\",\"line_width\":2,\"x\":{\"field\":\"Year\"},\"y\":{\"field\":\"Value\"}},\"id\":\"1037\",\"type\":\"Line\"},{\"attributes\":{\"source\":{\"id\":\"1004\"}},\"id\":\"1039\",\"type\":\"CDSView\"},{\"attributes\":{},\"id\":\"1056\",\"type\":\"UnionRenderers\"},{\"attributes\":{},\"id\":\"1025\",\"type\":\"BasicTicker\"},{\"attributes\":{},\"id\":\"1051\",\"type\":\"BasicTickFormatter\"},{\"attributes\":{\"data\":{\"Description\":[\"Population age 16-74.\",\"Population age 16-74.\",\"Users in the last 3 months.\",\"Users in the last 3 months. Age 16-74.\",\"Population age 16-74.\",\"Population age 16-74.\",\"Population age 16-74.\",\"Population age 16-74.\",\"Population age 16-74.\",\"Population age 16-74.\",\"Population age 16-74.\",\"Population age 16-74.\",\"Population age 16-74 using Internet in the last 3 months.\",\"Population age 16+ using the Internet in the last 3 months.\",\"Population age 16+ using internet in the last 3 months.\",\"No description given\",\"No description given\",\"No description given\",\"No description given\",\"No description given\",\"No description given\",\"No description given\",\"No description given\",\"No description given\",\"No description given\"],\"Value\":{\"__ndarray__\":\"16NwPQrnVkBuowG8BXZWQJGHT0u43lVAqMxv5VFYVUAAAAAAAEBVQKRwPQrX41RAKVyPwvWYU0D2KFyPwsVSQBSuR+F6NFFAAAAAAACAUUDXo3A9CmdQQBSuR+F6NFBAPQrXo3A9TEAz8U+ElL1AQKtHPn5e0jpAlw+g4CtLNUCazDkGCFcrQIj2KQamih1A5q6PMZ5+EECbzYD6m1L+P7dsGH7zlfA/bCt96+Oh4D/Xgbg0663QP/D2B+kyTcY/ELhxD+tctj8=\",\"dtype\":\"float64\",\"order\":\"little\",\"shape\":[25]},\"Year\":[2014,2013,2012,2011,2010,2009,2008,2007,2006,2005,2004,2003,2002,2001,2000,1999,1998,1997,1996,1995,1994,1993,1992,1991,1990]},\"selected\":{\"id\":\"1057\"},\"selection_policy\":{\"id\":\"1056\"}},\"id\":\"1004\",\"type\":\"ColumnDataSource\"},{\"attributes\":{\"coordinates\":null,\"formatter\":{\"id\":\"1051\"},\"group\":null,\"major_label_policy\":{\"id\":\"1052\"},\"ticker\":{\"id\":\"1025\"}},\"id\":\"1024\",\"type\":\"LinearAxis\"},{\"attributes\":{\"line_alpha\":0.1,\"line_color\":\"#1f77b4\",\"line_width\":2,\"x\":{\"field\":\"Year\"},\"y\":{\"field\":\"Value\"}},\"id\":\"1036\",\"type\":\"Line\"},{\"attributes\":{\"overlay\":{\"id\":\"1028\"}},\"id\":\"1006\",\"type\":\"BoxZoomTool\"},{\"attributes\":{\"coordinates\":null,\"group\":null,\"text\":\"figure 1: UK internet users, 1990-2014 according to UNData. Hover for data description.\"},\"id\":\"1010\",\"type\":\"Title\"},{\"attributes\":{\"source\":{\"id\":\"1004\"}},\"id\":\"1045\",\"type\":\"CDSView\"},{\"attributes\":{\"bottom_units\":\"screen\",\"coordinates\":null,\"fill_alpha\":0.5,\"fill_color\":\"lightgrey\",\"group\":null,\"left_units\":\"screen\",\"level\":\"overlay\",\"line_alpha\":1.0,\"line_color\":\"black\",\"line_dash\":[4,4],\"line_width\":2,\"right_units\":\"screen\",\"syncable\":false,\"top_units\":\"screen\"},\"id\":\"1028\",\"type\":\"BoxAnnotation\"},{\"attributes\":{\"coordinates\":null,\"data_source\":{\"id\":\"1004\"},\"glyph\":{\"id\":\"1041\"},\"group\":null,\"hover_glyph\":null,\"muted_glyph\":{\"id\":\"1043\"},\"nonselection_glyph\":{\"id\":\"1042\"},\"view\":{\"id\":\"1045\"}},\"id\":\"1044\",\"type\":\"GlyphRenderer\"},{\"attributes\":{\"tools\":[{\"id\":\"1005\"},{\"id\":\"1006\"},{\"id\":\"1007\"},{\"id\":\"1008\"}]},\"id\":\"1029\",\"type\":\"Toolbar\"},{\"attributes\":{\"fill_alpha\":{\"value\":0.2},\"fill_color\":{\"value\":\"#1f77b4\"},\"hatch_alpha\":{\"value\":0.2},\"line_alpha\":{\"value\":0.2},\"line_color\":{\"value\":\"#1f77b4\"},\"size\":{\"value\":15},\"x\":{\"field\":\"Year\"},\"y\":{\"field\":\"Value\"}},\"id\":\"1043\",\"type\":\"Circle\"},{\"attributes\":{},\"id\":\"1016\",\"type\":\"LinearScale\"},{\"attributes\":{},\"id\":\"1014\",\"type\":\"DataRange1d\"},{\"attributes\":{\"line_color\":\"#1f77b4\",\"line_width\":2,\"x\":{\"field\":\"Year\"},\"y\":{\"field\":\"Value\"}},\"id\":\"1035\",\"type\":\"Line\"}],\"root_ids\":[\"1009\"]},\"title\":\"Bokeh Application\",\"version\":\"2.4.3\"}};\n",
       "  const render_items = [{\"docid\":\"9dcc6c8b-fc81-4cbb-b270-b3177fad01c9\",\"root_ids\":[\"1009\"],\"roots\":{\"1009\":\"2d30a1b1-717b-4bc4-98b0-81d2e7970de2\"}}];\n",
       "  root.Bokeh.embed.embed_items_notebook(docs_json, render_items);\n",
       "  }\n",
       "  if (root.Bokeh !== undefined) {\n",
       "    embed_document(root);\n",
       "  } else {\n",
       "    let attempts = 0;\n",
       "    const timer = setInterval(function(root) {\n",
       "      if (root.Bokeh !== undefined) {\n",
       "        clearInterval(timer);\n",
       "        embed_document(root);\n",
       "      } else {\n",
       "        attempts++;\n",
       "        if (attempts > 100) {\n",
       "          clearInterval(timer);\n",
       "          console.log(\"Bokeh: ERROR: Unable to run BokehJS code because BokehJS library is missing\");\n",
       "        }\n",
       "      }\n",
       "    }, 10, root)\n",
       "  }\n",
       "})(window);"
      ],
      "application/vnd.bokehjs_exec.v0+json": ""
     },
     "metadata": {
      "application/vnd.bokehjs_exec.v0+json": {
       "id": "1009"
      }
     },
     "output_type": "display_data"
    }
   ],
   "source": [
    "from bokeh.plotting import figure, output_notebook, show\n",
    "from bokeh.models import ColumnDataSource, Title, HoverTool, BoxZoomTool, PanTool, WheelZoomTool\n",
    "\n",
    "import pandas as pd\n",
    "\n",
    "df = pd.read_csv(\"script/undata_clean.csv\")\n",
    "source = ColumnDataSource(data=dict(df))\n",
    "\n",
    "hover = HoverTool(tooltips=[(\"Year\", \"@Year\"), (\"Value\",\"@Value\"), (\"Description\", \"@Description\")])\n",
    "\n",
    "p = figure(title=\"figure 1: UK internet users, 1990-2014 according to UNData. Hover for data description.\", tools=[hover, BoxZoomTool(), PanTool(), WheelZoomTool()])\n",
    "\n",
    "p.line('Year', 'Value', line_width = 2, source=source)\n",
    "p.circle('Year', 'Value', size = 15, source=source)\n",
    "\n",
    "p.add_layout(Title(text=\"Year\", align=\"center\"), \"below\")\n",
    "p.add_layout(Title(text=\"Percentage of UK population\", align=\"center\"), \"left\")\n",
    "\n",
    "output_notebook()\n",
    "show(p)"
   ]
  },
  {
   "cell_type": "markdown",
   "id": "5d3b6402",
   "metadata": {
    "tags": [
     "hermeneutics",
     "anchor-content-warnings"
    ]
   },
   "source": [
    "## Citation, anonymity, and content warnings"
   ]
  },
  {
   "cell_type": "markdown",
   "id": "35a65b5b",
   "metadata": {
    "tags": [
     "hermeneutics"
    ]
   },
   "source": [
    "Ian Milligan asks a tongue-in-cheek, but pertinent question: ‘Is it “real” historical research if the citations do not point to the exact historical document?’ (<cite data-cite=\"1787664/H3QQSZW3\"></cite> p. 199). This paper provides a list of the sources consulted in the Bibliography ([Internet Archive citations](#anchor-citations)) – but does not provide direct links to the pages in the text. The ethical reasons for this will be discussed later, but in brief: this approach allows researchers to check the sources being used and reproduce this work while also allowing a degree of pseudo-anonymisation.\n",
    "\n",
    "Some of the material here contains personal information that either the original authors never considered would become so widely publicised or has been disclosed by other people with varying levels of anonymity or implied consent. \n",
    "A content warning: some of the material here contains explicit antisemitism, discussion of suicide ideation, grief, sexist and sectarian jokes, and experiences of trauma."
   ]
  },
  {
   "cell_type": "markdown",
   "id": "28887ef8",
   "metadata": {},
   "source": [
    "## Twenty-first-century sickness"
   ]
  },
  {
   "cell_type": "markdown",
   "id": "d4648755",
   "metadata": {},
   "source": [
    "Tony Blair’s government promised a welfare system that would provide ‘work for those who can; security for those who cannot’ (<cite data-cite=\"1787664/WT39P3GD\"></cite> p. iii). This would be achieved through reforms designed to rehabilitate long-term disability and unemployment claimants so that they could find and maintain employment. These ‘active labour market’ policies constituted a package of new approaches to welfare governance touted as ‘the Third Way’, borrowing from sociologist Anthony Giddens (<cite data-cite=\"1787664/N4NQ8UNF\"></cite>) and the welfare reforms of the Clinton administration in the United States (<cite data-cite=\"1787664/WYZBXYL3\"></cite>). Despite the radical nature of these policies, there were also continuities. Labour wanted to distance itself from its reputation in the 1970s, the last time it was in power, as economically incompetent (<cite data-cite=\"1787664/HWN98359\"></cite>). It therefore continued with much of the rhetoric from the 1980s and 1990s directed at ‘scroungers’. The Conservative shadow minister Iain Duncan Smith even joked in the House of Commons that Labour’s first social security budget was effectively ‘the Peter Lilley Memorial Bill’, referencing the previous Minister for Social Security who had instituted large cuts to unemployment and disability-related benefits (<cite data-cite=\"1787664/Z7NA8QHY\"></cite> 22 July 1997 vol 298 col 793). This created a paradox. On the one hand, Labour was a party openly committed to disability rights and rebuilding the welfare state after 18 years of Conservative rule. On the other, it had embraced many of the neoliberal logics of welfare and employment, promoting selective welfare benefits that were designed to punish those who were considered to not be trying hard enough to find and maintain employment (<cite data-cite=\"1787664/JA3A9EYG\"></cite>, <cite data-cite=\"1787664/8LWKTH7W\"></cite>). Moreover, through all this political turmoil, the British economy and the technology underpinning it were changing rapidly. More people were becoming self-employed, service industries were becoming a much bigger proportion of Gross Domestic Product than manufacturing, and digital telecommunications was transforming how Britons worked (<cite data-cite=\"1787664/MA5LPGW8\"></cite>, <cite data-cite=\"1787664/ZDYPACI5\"></cite>, <cite data-cite=\"1787664/R9Z5ZILT\"></cite>).\n",
    "\n",
    "This framework created consequences for how medical certification was treated at the turn of the millennium. For long-term sickness, more emphasis was placed on determining a claimant’s capabilities at work-related tasks which were to be determined via functioning tests introduced by the Conservative government in the mid-1990s. These were designed to evaluate the extent to which someone ought to be expected to work and, in theory, provide a basis for reasonable adjustments that could be made to workplaces to help people back into work (<cite data-cite=\"1787664/FU5RN3MZ\"></cite>, <cite data-cite=\"1787664/6UVRECCA\"></cite>). Disability rights organisations were sceptical of these claims, and continue to be to this day. Rather than being used as a tool to empower disabled people in the labour market it has largely been used as a punitive mechanism to reduce the number of people claiming long-term out-of-work disability benefits (<cite data-cite=\"1787664/XLIV6QDH\"></cite>, <cite data-cite=\"1787664/DZSHY8M6\"></cite>).\n",
    "\n",
    "For shorter-term sickness and for those in employment, employers had become less tolerant of people taking time off work and had developed new monitoring and discipline tools for getting sick employees back to work faster. Some of this was also based around capacity testing through interviews and assessments that could allow employees to gradually return with fewer hours or duties (<cite data-cite=\"1787664/2BY9KDLI\"></cite>). However, it had become more important for employers to do this due to wider changes in employment practices. The shift towards employing low-skilled, insecure labour in service industries with small staff numbers that left little margin for absences of any kind meant that businesses required as close to 100 per cent attendance as possible. In addition, changes to the sick pay system since the early 1980s had made employers almost entirely responsible for sick pay as well as the effects of sick leave. As a result, the public and private sectors had invested in a burgeoning human resources industry that advised businesses on how they could further reduce staff absence (<cite data-cite=\"1787664/PYB3MHWP\"></cite>).\n",
    "\n",
    "This political and economic history is available through the contemporary social science literature, a growing historical interest in the 1990s and 2000s, and the myriad digitised and born-digital sources produced by the British government. Less attention has been paid to how people living in Britain responded to this changing economic landscape. How did people feel about declaring their medical status; how did they negotiate this bureaucracy with the changing consequences for missing work; and how did they feel about their co-workers taking time off when there was little slack to cover for sick colleagues? For historians, the archived web offers some evidence for these phenomena. By using webpages from the Internet Archive, this article now shows how British people documented their experiences about sickness online. Integrating these testimonies into the wider history of medical certification and sick leave shows how these experiences were tied into a much wider economic and political system. Thus, archived web pages augment an existing historical analysis and provide historians with more evidence of how such systems affected people’s daily lives."
   ]
  },
  {
   "cell_type": "markdown",
   "id": "efb9e973",
   "metadata": {
    "tags": [
     "hermeneutics",
     "anchor-getting-the-data"
    ]
   },
   "source": [
    "## Getting the data"
   ]
  },
  {
   "cell_type": "markdown",
   "id": "2509af3d",
   "metadata": {
    "tags": [
     "hermeneutics"
    ]
   },
   "source": [
    "Knowing that web archives would contain relevant material for the project, the question was how to access it. Hyperlink analysis was not important to the research. Similarly, large-scale text analysis on large corpora was unnecessary. The project required a set of texts, or documents, that could be read alongside other historical evidence of medical certification practices and opinions about sick notes from the pre-web era. This required some form of discovery (through text searching) to find meaningful documents – with the main trade-offs being both the quantity of material that could be analysed and the representativeness of that material across the entire archived web.\n",
    "\n",
    "SHINE is a tool ‘developed as part of the Big UK Data Arts and Humanities Project funded by the AHRC’. It allows text searching of data acquired on the .uk top level domain (TLD) from JISC and the Internet Archive from 1996 to 2013 (<cite data-cite=\"1787664/Q2FJIN7R\"></cite>). Although a prototype, it allows facet searching either through the user interface or through commands in the URL. Results are presented from the indexed metadata, but access to the pages themselves is provided through a link to the Internet Archive’s Wayback Machine.\n",
    "\n",
    "The string “sick note” (in quotation marks) provided a useful set of results for this research that could be further refined. “Sick note” in most circumstances referred directly to medical certification or to metaphorical and colloquial expressions that were based on the use of medical certificates. Even obscure references, such as to bad music, were based on a joke that only works because of the cultural association of the phrase in UK English to medical certification. All of this was relevant to the research project.\n",
    "\n",
    "However, the string could also appear as an artefact (e.g., as an old news headline in a sidebar on a story that had nothing to do with sickness), meaning some sites had a disproportionate number of entries in the results despite their lack of relevance to the research. Similarly, many universities, schools, public bodies, and companies published their sickness absence regulations on the web. A single instance of this might be relevant to establish how medical certification was used by authorities monitoring absence or health status – but the sheer volume of mentions could drown out other more interesting examples of people and organisations expressing their opinions and direct experiences of using sick notes. There were also many instances of the same page on the same URL across time, the content of the HTML file perhaps changing slightly in each capture, but the core content of text remaining static.\n",
    "\n",
    "In full mode, SHINE returned 147,139 results. To provide a balance between time scale and a manageable number of webpages, these were further restricted to the ten years 1996 to 2005, providing 32,030 pages. As table 1 shows, this provided many more results for the later years than the earlier ones, but also provided a rich set of sources for the second Blair term and the period in which British web usage increased significantly (see figure 1)."
   ]
  },
  {
   "cell_type": "markdown",
   "id": "dc8ff971",
   "metadata": {
    "jdh": {
     "object": {
      "source": [
       "Author's search in SHINE, 14 November 2022."
      ]
     }
    },
    "tags": [
     "table-1",
     "hermeneutics"
    ]
   },
   "source": [
    "Year|Results\n",
    "---|---\n",
    "1996|5\n",
    "1997|134\n",
    "1998|82\n",
    "1999|326\n",
    "2000|743\n",
    "2001|1687\n",
    "2002|2978\n",
    "2003|6512\n",
    "2004|10449\n",
    "2005|9114"
   ]
  },
  {
   "cell_type": "markdown",
   "id": "568298a1",
   "metadata": {
    "tags": [
     "hermeneutics"
    ]
   },
   "source": [
    "The results were manually checked in date order, skim-read to see if they provided insight into how sick notes were used or people’s opinions of them. When a particular opinion or use case was “saturated”, or it seemed obvious from context that the page contained little new or pertinent information, these pages were ignored. In some cases, to speed up the process and to make the results pages more readable, sites were excluded through adding facet commands to the search URL. This included major news websites such as the Guardian and the BBC, and websites that had multiple instances of the same type of content or duplicates across several URLs. A typical search URL for the year 2001, for example, reads: \n",
    "\n",
    "> https://www.webarchive.org.uk/shine/search?query=\"sick+note\"&page=1&tab=concordance&action=search&mode=full&facet.in.crawl_year=\"2001\"&facet.out.domain=\"bbc.co.uk\"&facet.out.domain=\"guardian.co.uk\"&facet.out.domain=\"beats.co.uk\"&facet.out.domain=\"telegraph.co.uk\"&facet.out.domain=\"internetforschools.co.uk\"\n",
    "\n",
    "Insightful pages were clipped to Evernote using a Chrome extension, saving both the content and the Wayback Machine URL for each entry. Pages could also be tagged for their general content, approximate year of publication and other pertinent categorisations. This facilitated both close reading of the texts and simple text searching across the corpus for key terms. Where relevant, a single web page could allow further exploration of the website on which they were published. In total, 213 pages were saved for analysis. These are listed in the bibliography ([Internet Archive citations](#anchor-citations))."
   ]
  },
  {
   "cell_type": "markdown",
   "id": "cf461274",
   "metadata": {},
   "source": [
    "## Experiences of being sick"
   ]
  },
  {
   "cell_type": "markdown",
   "id": "60a7b40e",
   "metadata": {},
   "source": [
    "There was often an incompatibility with how an individual understood their capacity to work and authorities’ assumption. One trans person wrote in their blog about their incredulity that the doctor asked if they needed a sick note for work. They described the extent of their depression and how they could not hold down a job – but did hope to begin a degree course instead. A man in his 40s took to a discussion board designed to give advice on benefit claims to describe his situation. He wanted to work, in part to improve his mental health and have a better relationship with his wife and children, but the doctor had told him there was nothing they would ever be able to do for his pain. ‘I need to be able to work’, he wrote, ‘but I don’t want the jobcentre putting me in for any job, because if I didn’t have this disability I would be working \\[. T\\]here’s plenty of work for non disabled persons’. Despite the government’s aim to provide more routes to work for those on the margins of employment, it did not work for everyone. Disability activists had long argued that unemployment was a result of employers’ prejudices against people with impairments rather than an inherent “fault” in the individual that could be rehabilitated. They argued that sick notes and capacity testing did not actually result in a negotiated settlement between the labour market and disabled people to allow them access to work. It did nothing to tackle employer prejudices, while also forcing disabled people to portray themselves as unemployable or risk sanctions (<cite data-cite=\"1787664/DZSHY8M6\"></cite>, <cite data-cite=\"1787664/ZBVM6GN6\"></cite>).\n",
    "\n",
    "Still, this gentleman was not the only one that took to the Web to find out information about welfare regulations. In 2001 a woman asked her fellow mothers what her legal position was regarding maternity leave. ‘The company that I work for are not very nice so I just wnat \\[sic\\] to be sure that my H.R. dept. are aware of everything \\[…\\] because I wouldn’t be surprised if they messed everything up’, she typed. ‘\\[I\\] have decided you ladies’, meaning her fellow members of the board, ‘are my best hope as I’m sure that one of you must know all of the rules and laws and wotnots that apply to us’. Here, historians learn about the anxieties that bureaucratic procedures around sickness could create for workers. We also see continuities from older forms of communication. Message boards were used to build a community of women sharing advice from their own lived or professional expertise. This has many parallels with the long history of letters pages and advice columns generated from reader correspondence in women’s magazines (<cite data-cite=\"1787664/ZB5VMZLI\"></cite>, <cite data-cite=\"1787664/VD5B2RK5\"></cite>).\n",
    "\n",
    "Others provided information for their fellow internet users to find. One website owner in the late 1990s was prompted to write a diary of his own experience of getting chicken pox as an adult. He had done so because he felt the existing information available on the internet was overly dramatic, suggesting ‘encephalitis, hepatitis and pneumonia’ and hospitalisation. He was apparently not alone in this experience. The phenomenon of WebMD and its potential links to increased health anxiety in the internet age is well-discussed (<cite data-cite=\"1787664/GE3GIT3L\"></cite>), yet even as early as 1996 doctors were warning about the potential issues around widespread access to medical (mis)information (<cite data-cite=\"1787664/TQEMK9R7\"></cite>). The chicken-pox afflicted man included black and white photographs of his experience and spoke about the various things he used to try to reduce the irritation – including a topical cold sore medication and brown sauce. ‘This article is not intended to be serious health advice’, he advised, ‘(not that I believe anyone in the right mind should take it as such) \\[and\\] if you suspect you have chicken pox, call your Doctor out as soon as possible’. What stands out is the omnipresent medical certification. Having tried to contact to his GP for many hours, he eventually broke through. The doctor simply ‘laughed and said “I suppose you're after a sick note”’. \n",
    "\n",
    "For others, the sick note was not a ticket for paid leave, or another bureaucratic hassle while trying to deal with the other symptoms of living with illness. It represented an unwelcome barrier to work. At the very least, being ill and being away from work was not always a good thing. Aside from the previously-mentioned man who wanted to work for his own mental health, another wrote an account about their experience of living with myalgic encephalomyelitis (ME). The diagnosis meant that doctors could do little in the short term other than prescribe rest. Having been told they would probably have to wait six months until their next full check up and prognosis, the author wrote: ‘My next Sick Note from the Doctor was for 3 months. I didn't have to see him and I didn't have to go to work for 3 whole months. That was terrible. How the heck would I fill my time! What on earth would work think of me!’ More humorously, a poster wrote on a message board that they were getting cabin fever, because they had watched so much daytime television that they could predict in what order the adverts would play. ‘I’m going to be crawling back to work at this rate just to get a life!’, they moaned. Both these examples, with differing degrees of levity, further emphasise the perceived importance of work in the structure of Britons’ lives. This shows how the Labour government and the architects of biopsychosocial models of welfare (<cite data-cite=\"1787664/6UVRECCA\"></cite>, <cite data-cite=\"1787664/DZSHY8M6\"></cite>) were able to justify their attempts to bring sick and disabled people back to work."
   ]
  },
  {
   "cell_type": "markdown",
   "id": "2aee88c6",
   "metadata": {},
   "source": []
  },
  {
   "cell_type": "markdown",
   "id": "2bb9da97",
   "metadata": {},
   "source": [
    "## Methodological and ethical considerations"
   ]
  },
  {
   "cell_type": "markdown",
   "id": "9bb08a57",
   "metadata": {},
   "source": [
    "The richness of the material in the Internet Archive is a boon for contemporary historians. As the previous analysis has shown, it can be used in conjunction with “traditional” documentary evidence to build a rich picture of life in Britain and the relationship citizens had with their welfare state. The approach taken here, however, has limitations. While we can learn much about life in Britain at the turn of the millennium from Internet Archives, historians also need to be clear about the boundaries of their conclusions. Moreover, there are serious ethical matters to consider.\n",
    "\n",
    "The pages consulted here can in no way be said to be a representative sample. As described in the hermeneutics layer ([Getting the data](#anchor-getting-the-data)), the pages were discovered through the British Library’s SHINE interface (<cite data-cite=\"1787664/Q2FJIN7R\"></cite>) and saved in a corpus determined by the qualitative judgement of the author. This approach mirrors physical archival scholarship, producing a valid historical argument. Yet the vastness of the Internet Archive puts the limitations of this method into sharp relief. The search term “sick note” is not inclusive of all medical certification experiences. 213 pages from 32,030 search results is a tiny fraction of the available material. Even then, only a portion of those 213 have made their way into this analysis. Reading the entire corpus reveals much more, including, but not limited to: doctors’ use of mailing lists to exchange advice on “awkward” patients; advertisements for private sick notes; the use of “sick note” as a pejorative nickname (especially in the context of sport); and specific experiences of medical certification for a range of medical conditions. Most importantly, the SHINE interface only searches the index of pages on the .uk Top Level Domain – missing potentially millions of instances of Britons talking about sick notes on .com, .org, or other domains.\n",
    "\n",
    "These are not fatal flaws. It was never intended that this research would form a comprehensive survey of sickness experiences on the archived Web. As illustrative discussions, tied to a wider analysis of British society, these pages serve their purpose well. As with all sources, the researcher must pay attention to the biases in the corpus as well as the individual webpages contained within (<cite data-cite=\"1787664/EV2GXZ32\"></cite>). Future historical work can build on this approach or apply other techniques to the data to challenge or complement this research.\n",
    "\n",
    "Research ethics are a bigger problem. In the original study (<cite data-cite=\"1787664/738XKCDW\"></cite>) webpages were referenced directly. While people were not named and attempts were made to anonymise people in the main text, the direct links mean that anyone reading the book will be able to find the original material. This approach follows the one taken by Roberta Bivins (<cite data-cite=\"1787664/VDJ3TAMB\"></cite> esp. p. 115) regarding smallpox survivors from the epidemic in Cardiff in the 1960s. Although Bivins anonymises the people involved, the archival and newspaper references remain for other scholars to verify the source material and reproduce the study if they so wish. As Ian Milligan (<cite data-cite=\"1787664/H3QQSZW3\"></cite>) reminds us, however, web pages are different. The effort required to follow them is much less than with physical archives. Further, the smallpox survivors were, for a time, figures whose medical experiences were a matter of public record. The same is not true of everyone in the corpus under consideration here. Even for those who voluntarily posted their own information online, there was no reasonable expectation that their words would have a life beyond the conversations they solicited with the small audiences they spoke to directly. Or, as Milligan puts it, ‘Many internet users have an expectation of privacy by virtue of their obscurity: most tweets and blog posts are needles in a haystack, especially if shared with only a limited number of followers’ (<cite data-cite=\"1787664/H3QQSZW3\"></cite> p. 203). \n",
    "\n",
    "These are not new problems and have been addressed elsewhere (<cite data-cite=\"1787664/3E5QAEN7\"></cite>, <cite data-cite=\"1787664/INDI2GFU\"></cite>, <cite data-cite=\"1787664/BSW5MGVT\"></cite>, <cite data-cite=\"1787664/N8YC25AZ\"></cite>). However, for historians using archived internet sources alongside larger, pre-digital source bases, the exact solutions are not obvious, either through a lack of experience of using such data or because it is difficult to maintain commensurability in source analysis techniques across different time periods. For example, direct quotations and some biographical details (such as geography, gender, class, age, race, disability etc.) can often be part of the historian’s analytical framework, rendering complete anonymity impossible and, at times, undesirable. (This is a typical site of contention for oral historians when explaining their methods to social scientists (<cite data-cite=\"1787664/CC4GDQ2D\"></cite> p. 97).) Furthermore, historians often use sources shorn of their original context through the archiving process: such as legal tribunals, personal and professional correspondence, journal entries, and so on. The people writing or being written about did so for specific cultural and bureaucratic reasons – least of which was to engage in a discussion with academic historians several years in the future. Historical distance and established convention change the ethical conundrum here in relation to web archives, but the principles applied to those sources do not necessarily fit the mass, sensitivity, and accessibility of data available in web archives (<cite data-cite=\"1787664/2JQ9IP82\"></cite>). The approach taken in this paper, then, is an attempt to evolve the author’s previous work and think more critically about the ethical implications of using this data. As discussed in the hermeneutics layer ([Citation, anonymity, and content warnings](#anchor-content-warnings)), there are no direct references to the webpages being quoted or analysed. Instead, every page in the corpus is accessible from the list of URLs given in the bibliography ([Internet Archive citations](#anchor-citations)). Anyone wishing to evaluate the selection choices or historical analyses can therefore find these sources with a little effort. This is a compromise to the professional academic requirements of the discipline. However, the sources themselves require some effort to locate exactly, offering a degree of anonymity to those who have no prospect of offering full informed consent for this study.\n",
    "\n",
    "This is not a perfect solution from a scholarly or anonymity perspective. It is also not universally applicable. It is possible in a venue such as the Journal of Digital History which allows a greater degree of flexibility in practical and methodological terms than might be permitted in a print social history journal. Yet it does allow experiences of sickness to be heard. It challenges authorities’ positions on absenteeism and working conditions and allows historians to better understand life in Britain at the time. Milligan (<cite data-cite=\"1787664/H3QQSZW3\"></cite> esp. pp. 205–10) and his co-authors (<cite data-cite=\"1787664/BSW5MGVT\"></cite>) have made these points regarding GeoCities and the importance of preserving the voices of those without access to large, establishment publication media. The starting point, as laid out in the AoIR’s ethical guidelines (<cite data-cite=\"1787664/N8YC25AZ\"></cite> p. 4) must be ‘respect for persons beneficence, and justice’ (borrowing from <cite data-cite=\"1787664/ZQDMRIWU\"></cite>). \n",
    "\n",
    "I hope I have demonstrated this respect in this study. The material here has enriched the research and given greater evidence for how people experienced sickness in Britain at the turn of the millennium. It has shown how people engaged with doctors, their employers and the bureaucracy surrounding sickness while also having to live with the effects of ill health on their bodies and personal relationships. While by no means exhaustive of all experiences, these testimonies have confirmed and complemented the story presented in more “traditional” source bases. They have challenged the government’s assertions about the purpose or outcomes of biopsychosocial models of disability and employment, while also articulating the voices of those that resisted impositions from state and employer practices. More analyses of early-twenty-first-century British life will benefit from internet archives and close reading of webpages alongside other sources. But future work of this type will have to engage even further with these methodological and ethical challenges."
   ]
  },
  {
   "cell_type": "markdown",
   "id": "5b92e29d",
   "metadata": {},
   "source": [
    "## Bibliography"
   ]
  },
  {
   "cell_type": "markdown",
   "id": "6290eca2",
   "metadata": {},
   "source": [
    "See below the list of Internet Archive webpages in the corpus used in this article."
   ]
  },
  {
   "cell_type": "code",
   "execution_count": null,
   "id": "78aee06a",
   "metadata": {
    "tags": [
     "table-2",
     "anchor-citations"
    ]
   },
   "outputs": [],
   "source": [
    "import pandas as pd\n",
    "\n",
    "df = pd.read_csv(\"script/citations.csv\", sep=r'[()]', header=None, engine='python')\n",
    "df"
   ]
  },
  {
   "cell_type": "markdown",
   "id": "cc675e51",
   "metadata": {},
   "source": [
    "Primary and secondary literature."
   ]
  },
  {
   "cell_type": "markdown",
   "id": "87d65760",
   "metadata": {},
   "source": [
    "<div class=\"cite2c-biblio\"></div>"
   ]
  },
  {
   "cell_type": "code",
   "execution_count": null,
   "id": "9d29c870",
   "metadata": {},
   "outputs": [],
   "source": []
  }
 ],
 "metadata": {
  "celltoolbar": "Tags",
  "cite2c": {
   "citations": {
    "1787664/2BY9KDLI": {
     "DOI": "10.1111/ecoj.12468",
     "abstract": "We evaluate the impacts of a compulsory dialogue meeting for long‐term sick‐listed workers in Norway. The meeting is organised by the local social security administration after around six months of absence; its purpose is to bring together the absentee, the employer and the family physician to discuss whether arrangements can be made to facilitate partial or full work resumption. Our causal analysis is based on random‐assignment‐like geographical variation in the meeting propensity. We find that the meetings reduce absence duration considerably, both through a notification and an attendance effect. Moreover, estimated benefits by far exceed estimated costs.",
     "author": [
      {
       "family": "Markussen",
       "given": "Simen"
      },
      {
       "family": "Røed",
       "given": "Knut"
      },
      {
       "family": "Schreiner",
       "given": "Ragnhild C."
      }
     ],
     "container-title": "Economic Journal",
     "container-title-short": "Economic Journal",
     "id": "1787664/2BY9KDLI",
     "issue": "610",
     "issued": {
      "month": 5,
      "year": 2018
     },
     "journalAbbreviation": "Economic Journal",
     "page": "1276-1303",
     "page-first": "1276",
     "title": "Can Compulsory Dialogues Nudge Sick‐listed Workers Back to Work?",
     "type": "article-journal",
     "volume": "128"
    },
    "1787664/2JQ9IP82": {
     "DOI": "10.1177/0163443715607846",
     "URL": "https://doi.org/10.1177/0163443715607846",
     "abstract": "This article explores the challenges which digital media brings into the field of media history. It starts out by examining prominent television historians? understanding of digital archives as revolutionizing media historiography. These claims are examined by holding them up against texts that discuss wider issues in historiographical practices related to television history and transnational comparisons. This investigation is paired with my own experiences and the many methodological challenges I have encountered using digitalized sources for my new research. I end up concluding that digital archives in themselves make little difference to scholarly media history. In light of the lacking impact, I argue that we should study the cultural economy of these archives to better understand the corporate, political, and economical structures that govern their content and which also set the course for online digital processes that are active history-producing entities themselves.",
     "accessed": {
      "day": 17,
      "month": 6,
      "year": 2022
     },
     "author": [
      {
       "family": "Jensen",
       "given": "Helle Strandgaard"
      }
     ],
     "container-title": "Media, Culture & Society",
     "container-title-short": "Media, Culture & Society",
     "id": "1787664/2JQ9IP82",
     "issue": "1",
     "issued": {
      "day": 1,
      "month": 1,
      "year": 2016
     },
     "journalAbbreviation": "Media, Culture & Society",
     "note": "Publisher: SAGE Publications Ltd",
     "page": "119-128",
     "page-first": "119",
     "shortTitle": "Doing media history in a digital age",
     "title": "Doing media history in a digital age: change and continuity in historiographical practices",
     "title-short": "Doing media history in a digital age",
     "type": "article-journal",
     "volume": "38"
    },
    "1787664/3E5QAEN7": {
     "URL": "https://www.jstor.org.proxy1-bib.sdu.dk:2048/stable/23079006",
     "abstract": "In the last twenty years, many collecting institutions have heeded the calls by indigenous activists to integrate indigenous models and knowledge into mainstream practices. The digital terrain poses both possibilities and problems for indigenous peoples as they seek to manage, revive, circulate, and create new cultural heritage within overlapping colonial/postcolonial histories and oftentimes-binary public debates about access in a digital age. While digital technologies allow for items to be repatriated quickly, circulated widely, and annotated endlessly, these same technologies pose challenges to some indigenous communities who wish to add their expert voices to public collections and also maintain some traditional cultural protocols for the viewing, circulation, and reproduction of some materials. This case study examines one collaborative archival project aimed at digitally repatriating and reciprocally curating cultural heritage materials of the Plateau tribes in the Pacific Northwest.",
     "accessed": {
      "day": 13,
      "month": 10,
      "year": 2022
     },
     "author": [
      {
       "family": "Christen",
       "given": "Kimberly"
      }
     ],
     "container-title": "The American Archivist",
     "id": "1787664/3E5QAEN7",
     "issue": "1",
     "issued": {
      "year": 2011
     },
     "note": "Publisher: Society of American Archivists",
     "page": "185-210",
     "page-first": "185",
     "shortTitle": "Opening Archives",
     "title": "Opening Archives: Respectful Repatriation",
     "title-short": "Opening Archives",
     "type": "article-journal",
     "volume": "74"
    },
    "1787664/6UVRECCA": {
     "ISBN": "0-11-703584-X 978-0-11-703584-3",
     "author": [
      {
       "family": "Waddell",
       "given": "Gordon"
      },
      {
       "family": "Aylward",
       "given": "Mansel"
      },
      {
       "family": "Great Britain. Dept. for",
       "given": "Work"
      },
      {
       "family": "Pensions",
       "given": ""
      }
     ],
     "event-place": "London",
     "id": "1787664/6UVRECCA",
     "issued": {
      "year": 2005
     },
     "language": "English",
     "publisher": "TSO",
     "publisher-place": "London",
     "title": "The scientific and conceptual basis of incapacity benefits",
     "type": "book"
    },
    "1787664/738XKCDW": {
     "author": [
      {
       "family": "Millward",
       "given": "Gareth"
      }
     ],
     "event-place": "Oxford",
     "id": "1787664/738XKCDW",
     "issued": {
      "year": 2022
     },
     "publisher": "Oxford University Press",
     "publisher-place": "Oxford",
     "shortTitle": "Sick Note",
     "title": "Sick Note: A History of the British Welfare State",
     "title-short": "Sick Note",
     "type": "book"
    },
    "1787664/8LWKTH7W": {
     "abstract": "When New Labour were elected in 1997, the party’s leader, Tony Blair, claimed the dawn of radical labour market reforms that would substantially reduce long-term unemployment and welfare dependency. This thesis is an evaluation of New Labour’s active labour market policy (ALMP), and focuses on the three central components of that policy agenda: the New Deal programmes, Tax Credit programmes and the National Minimum Wage. These reforms were targeted at key client groups such as the young (defined as those aged 18 to 25 year olds), the long-term unemployed, those aged over 50, the disabled and lone-parents. This thesis adopts Economics of Conventions (EC) as its focal theory, and uses a range of quantitative methods to analyse official labour market data while drawing into question the trajectories of improvement found in the official statistics. It also provides a systematic review of existing evaluative research including that conducted by the Department for Work and Pensions, Low Pay Commission and HM Treasury.\n\nThis thesis found that rates of unemployment declined while New Labour were in power, arguably as a result of strong economic growth but potentially as a result of their ALMP. Rates of economic activity and inactivity did not significantly change, even after the introduction of additional obligations on lone parents. However, due to the introduction of programmes like the New Deal for Young People, individuals were re-categorised, drastically altering labour market statistics and trends. Indeed, when it comes to the justification and evaluation of their ALMP, New Labour made clear moral judgements about ‘the deserving poor’ and ‘the undeserving poor’ based on links between rights and responsibilities of benefit claimants. Indeed, the economic policies of New Labour continued and promoted neo-liberal precepts of labour market management, i.e. they focused on individual behaviour and personal responsibility, at the expense of potentially more effective policy alternatives.",
     "author": [
      {
       "family": "Hill",
       "given": "Peter"
      }
     ],
     "event-place": "Coventry",
     "genre": "PhD",
     "id": "1787664/8LWKTH7W",
     "issued": {
      "year": 2016
     },
     "publisher": "University of Warwick",
     "publisher-place": "Coventry",
     "shortTitle": "Working hard or hardly working?",
     "title": "Working hard or hardly working? Evaluating New Labour's active labour market policy",
     "title-short": "Working hard or hardly working?",
     "type": "thesis"
    },
    "1787664/AGQID8I3": {
     "author": [
      {
       "family": "Beveridge",
       "given": "William H."
      }
     ],
     "event-place": "London",
     "genre": "Command Paper",
     "id": "1787664/AGQID8I3",
     "issued": {
      "year": 1942
     },
     "number": "Cmd. 6404",
     "publisher": "HMSO",
     "publisher-place": "London",
     "shortTitle": "Cmd. 6404",
     "title": "Social Insurance and Allied Services",
     "title-short": "Cmd. 6404",
     "type": "report"
    },
    "1787664/BSW5MGVT": {
     "ISBN": "978-1-4503-6892-6",
     "URL": "http://doi.org/10.1145/3343413.3377980",
     "abstract": "We live in an era in which the ways that we can make sense of our past are evolving as more artifacts from that past become digital. At the same time, the responsibilities of traditional gatekeepers who have negotiated the ethics of historical data collection and use, such as librarians and archivists, are increasingly being sidelined by the system builders who decide whether and how to provide access to historical digital collections, often without sufficient reflection on the ethical issues at hand. It is our aim to better prepare system builders to grapple with these issues. This paper focuses discussions around one such digital collection from the dawn of the web, asking what sorts of analyses can and should be conducted on archival copies of the GeoCities web hosting platform that dates to 1994.",
     "accessed": {
      "day": 28,
      "month": 4,
      "year": 2022
     },
     "author": [
      {
       "family": "Lin",
       "given": "Jimmy"
      },
      {
       "family": "Milligan",
       "given": "Ian"
      },
      {
       "family": "Oard",
       "given": "Douglas W."
      },
      {
       "family": "Ruest",
       "given": "Nick"
      },
      {
       "family": "Shilton",
       "given": "Katie"
      }
     ],
     "container-title": "Proceedings of the 2020 Conference on Human Information Interaction and Retrieval",
     "event-place": "New York, NY, USA",
     "id": "1787664/BSW5MGVT",
     "issued": {
      "day": 14,
      "month": 3,
      "year": 2020
     },
     "page": "135–144",
     "page-first": "135",
     "publisher": "Association for Computing Machinery",
     "publisher-place": "New York, NY, USA",
     "shortTitle": "We Could, but Should We?",
     "title": "We Could, but Should We? Ethical Considerations for Providing Access to GeoCities and Other Historical Digital Collections",
     "title-short": "We Could, but Should We?",
     "type": "chapter"
    },
    "1787664/CC4GDQ2D": {
     "author": [
      {
       "family": "Berridge",
       "given": "Virginia"
      }
     ],
     "container-title": "Oral History",
     "id": "1787664/CC4GDQ2D",
     "issued": {
      "season": "Spring",
      "year": 2010
     },
     "page": "91-100",
     "page-first": "91",
     "shortTitle": "'Hidden from History'?",
     "title": "'Hidden from History'? : Oral History and the History of Health Policy",
     "title-short": "'Hidden from History'?",
     "type": "article-journal",
     "volume": "38"
    },
    "1787664/DZSHY8M6": {
     "DOI": "10.1177/0261018316649120",
     "URL": "http://journals.sagepub.com/doi/10.1177/0261018316649120",
     "abstract": "The biopsychosocial (BPS) model of mental distress, originally conceived by the American psychiatrist George Engel in the 1970s and commonly used in psychiatry and psychology, has been adapted by Gordon Waddell and Mansell Aylward to form the theoretical basis for current UK Government thinking on disability. Most importantly, the Waddell and Aylward version of the BPS has played a key role as the Government has sought to reform spending on out-of- work disability benefits. This paper presents a critique of Waddell and Aylward’s model, examining its origins, its claims and the evidence it employs. We will argue that its potential for genuine inter-disciplinary cooperation and the holistic and humanistic benefits for disabled people as envisaged by Engel are not now, if they ever have been, fully realized. Any potential benefit it may have offered has been eclipsed by its role in Coalition/Conservative government social welfare policies that have blamed the victim and justified restriction of entitlements.",
     "accessed": {
      "day": 19,
      "month": 8,
      "year": 2020
     },
     "author": [
      {
       "family": "Shakespeare",
       "given": "Tom"
      },
      {
       "family": "Watson",
       "given": "Nicholas"
      },
      {
       "family": "Alghaib",
       "given": "Ola Abu"
      }
     ],
     "container-title": "Critical Social Policy",
     "container-title-short": "Critical Social Policy",
     "id": "1787664/DZSHY8M6",
     "issue": "1",
     "issued": {
      "year": 2017
     },
     "journalAbbreviation": "Critical Social Policy",
     "language": "en",
     "page": "22-41",
     "page-first": "22",
     "shortTitle": "Blaming the victim, all over again",
     "title": "Blaming the victim, all over again: Waddell and Aylward’s biopsychosocial (BPS) model of disability",
     "title-short": "Blaming the victim, all over again",
     "type": "article-journal",
     "volume": "37"
    },
    "1787664/EV2GXZ32": {
     "URL": "http://dx.doi.org/10.2752/147800413X13515292098070",
     "abstract": "This discussion piece argues that the design and structure of online historical resources and the process of search and discover embodied within them create a series of substantial problems for historians. Algorithm-driven discovery and misleading forms of search, poor OCR, and all the selection biases of a new edition of the Western print archive have changed how we research the past, and the underlying character of the object of study (inherited text). This piece argues that academic historians have largely failed to respond effectively to these challenges and suggests that while they have preserved the form of scholarly good practice, they have ignored important underlying principles.",
     "accessed": {
      "day": 7,
      "month": 3,
      "year": 2017
     },
     "author": [
      {
       "family": "Hitchcock",
       "given": "Tim"
      }
     ],
     "container-title": "Cultural and Social History",
     "id": "1787664/EV2GXZ32",
     "issue": "1",
     "issued": {
      "day": 1,
      "month": 3,
      "year": 2013
     },
     "language": "en",
     "page": "9-23",
     "page-first": "9",
     "shortTitle": "Confronting the digital",
     "title": "Confronting the digital: or how academic history writing lost the plot",
     "title-short": "Confronting the digital",
     "type": "article-journal",
     "volume": "10"
    },
    "1787664/FU5RN3MZ": {
     "ISBN": "978-0-11-703694-9",
     "author": [
      {
       "family": "Waddell",
       "given": "Gordon"
      },
      {
       "family": "Burton",
       "given": "A. Kim"
      }
     ],
     "event-place": "London",
     "id": "1787664/FU5RN3MZ",
     "issued": {
      "year": 2006
     },
     "language": "en",
     "note": "OCLC: 244149332",
     "publisher": "TSO",
     "publisher-place": "London",
     "title": "Is work good for your health and well-being?",
     "type": "book"
    },
    "1787664/GE3GIT3L": {
     "DOI": "10.1111/cpsp.12299",
     "URL": "http://onlinelibrary.wiley.com/doi/abs/10.1111/cpsp.12299",
     "abstract": "Using the Internet to obtain health information (“online health research,” OHR) is commonplace. This article provides a systematic narrative review of evidence concerning the relationship between OHR and health anxiety. We conclude that health anxiety is associated with more frequent self-reported OHR, heightened distress after OHR, and increased doctor visits post-OHR. Evidence suggests that OHR often has a reassurance seeking function and can relieve anxiety, but that it can also cause alarm and become a distressing, compulsive behavior. We present a novel model that integrates these perspectives and existing research within a single explanatory framework that distinguishes between problematic OHR and compulsive OHR, and describes the role of positive and negative metacognitions in their respective development.",
     "accessed": {
      "day": 25,
      "month": 11,
      "year": 2022
     },
     "author": [
      {
       "family": "Brown",
       "given": "Richard J."
      },
      {
       "family": "Skelly",
       "given": "Niamh"
      },
      {
       "family": "Chew-Graham",
       "given": "Carolyn A."
      }
     ],
     "container-title": "Clinical Psychology: Science and Practice",
     "id": "1787664/GE3GIT3L",
     "issue": "2",
     "issued": {
      "year": 2020
     },
     "language": "en",
     "note": "_eprint: https://onlinelibrary.wiley.com/doi/pdf/10.1111/cpsp.12299",
     "page": "e12299",
     "page-first": "e12299",
     "shortTitle": "Online health research and health anxiety",
     "title": "Online health research and health anxiety: A systematic review and conceptual integration",
     "title-short": "Online health research and health anxiety",
     "type": "article-journal",
     "volume": "27"
    },
    "1787664/H3QQSZW3": {
     "author": [
      {
       "family": "Milligan",
       "given": "Ian"
      }
     ],
     "event-place": "Montreal",
     "id": "1787664/H3QQSZW3",
     "issued": {
      "year": 2019
     },
     "publisher": "McGill-Queen's University Press",
     "publisher-place": "Montreal",
     "shortTitle": "History in the Age of Abundance?",
     "title": "History in the Age of Abundance?: How the Web is Transforming Historical Research",
     "title-short": "History in the Age of Abundance?",
     "type": "book"
    },
    "1787664/HMVH9RQH": {
     "URL": "https://www.jstor.org.proxy1-bib.sdu.dk:2048/stable/259715",
     "accessed": {
      "day": 28,
      "month": 11,
      "year": 2022
     },
     "author": [
      {
       "family": "Thomson",
       "given": "David"
      }
     ],
     "container-title": "Journal of Contemporary History",
     "id": "1787664/HMVH9RQH",
     "issue": "1",
     "issued": {
      "year": 1967
     },
     "note": "Publisher: Sage Publications, Ltd.",
     "page": "25-34",
     "page-first": "25",
     "title": "The Writing of Contemporary History",
     "type": "article-journal",
     "volume": "2"
    },
    "1787664/HWN98359": {
     "author": [
      {
       "family": "Hay",
       "given": "Colin"
      }
     ],
     "container-title": "Parliamentary Affairs",
     "id": "1787664/HWN98359",
     "issued": {
      "year": 2010
     },
     "page": "446-470",
     "page-first": "446",
     "shortTitle": "Chronicles of a Death Foretold",
     "title": "Chronicles of a Death Foretold: the Winter of Discontent and Construction of Crisis of British Keynesianism",
     "title-short": "Chronicles of a Death Foretold",
     "type": "article-journal",
     "volume": "63"
    },
    "1787664/INDI2GFU": {
     "DOI": "10.1007/s42803-021-00032-5",
     "URL": "https://doi.org/10.1007/s42803-021-00032-5",
     "abstract": "Our work considers the sociotechnical and organisational constraints of web archiving in order to understand how these factors and contingencies influence research engagement with national web collections. In this article, we compare and contrast our experiences of undertaking web archival research at two national web archives: the UK Web Archive located at the British Library and the Netarchive at the Royal Danish Library. Based on personal interactions with the collections, interviews with library staff and observations of web archiving activities, we invoke three conceptual devices (orientating, auditing and constructing) to describe common research practices and associated challenges in the context of each national web archive. Through this framework we centre the early stages of the research process that are often only given cursory attention in methodological descriptions of web archival research, to discuss the epistemological entanglements of researcher practices, instruments, tools and methods that create the conditions of possibility for new knowledge and scholarship in this space. In this analysis, we highlight the significant time and energy required on the part of researchers to begin using national web archives, as well as the value of engaging with the curatorial infrastructure that enables web archiving in practice. Focusing an analysis on these research infrastructures facilitates a discussion of how these web archival interfaces both enable and foreclose on particular forms of researcher engagement with the past Web and in turn contributes to critical ongoing debates surrounding the opportunities and constraints of digital sources, methodologies and claims within the Digital Humanities.",
     "accessed": {
      "day": 2,
      "month": 6,
      "year": 2022
     },
     "author": [
      {
       "family": "Ogden",
       "given": "Jessica"
      },
      {
       "family": "Maemura",
       "given": "Emily"
      }
     ],
     "container-title": "International Journal of Digital Humanities",
     "container-title-short": "Int J Digit Humanities",
     "id": "1787664/INDI2GFU",
     "issue": "1",
     "issued": {
      "day": 1,
      "month": 11,
      "year": 2021
     },
     "journalAbbreviation": "Int J Digit Humanities",
     "language": "en",
     "page": "43-63",
     "page-first": "43",
     "shortTitle": "‘Go fish’",
     "title": "‘Go fish’: Conceptualising the challenges of engaging national web archives for digital research",
     "title-short": "‘Go fish’",
     "type": "article-journal",
     "volume": "2"
    },
    "1787664/JA3A9EYG": {
     "DOI": "10.1177/0032321718800495",
     "URL": "https://search.ebscohost.com/login.aspx?direct=true&db=hia&AN=137362811&site=ehost-live",
     "abstract": "The expansion of cash benefits to low-paid workers has been one of the most significant developments in recent UK public policy. Since 1979, transfer payments to working-age households have trebled in real terms, helping to offset increases in wage inequality. Adopting a discursive institutionalist approach, this article argues that the growth of transfer payments partly reflects the influence of what John Kay has called 'Redistributive Market Liberalism' – the belief that poverty and inequality are best alleviated through income transfers outside the market. Although its roots can be traced back to the 1940s, Redistributive Market Liberalism came to the fore after 1979 in the context of a reaction against trade union power and renewed confidence in neoclassical microeconomics, and reached its apogee in New Labour's child poverty strategy. The 2008 financial crisis, however, appears to have disrupted the ascendancy of this free-market philosophy and prompted a return to more interventionist forms of distributional politics.",
     "accessed": {
      "day": 16,
      "month": 2,
      "year": 2021
     },
     "author": [
      {
       "family": "Sloman",
       "given": "Peter"
      }
     ],
     "container-title": "Political Studies",
     "container-title-short": "Political Studies",
     "id": "1787664/JA3A9EYG",
     "issue": "3",
     "issued": {
      "month": 8,
      "year": 2019
     },
     "journalAbbreviation": "Political Studies",
     "page": "732-751",
     "page-first": "732",
     "shortTitle": "Redistribution in an Age of Neoliberalism",
     "title": "Redistribution in an Age of Neoliberalism: Market Economics, 'Poverty Knowledge', and the Growth of Working-Age Benefits in Britain, c. 1979–2010",
     "title-short": "Redistribution in an Age of Neoliberalism",
     "type": "article-journal",
     "volume": "67"
    },
    "1787664/K78EW9JM": {
     "DOI": "10.1080/09581590902763265",
     "abstract": "Income maintenance during unemployment, old age or long-term sickness is a key facet of welfare provision and an important mediatory factor in the relationship between socio-economic position and health status. Since October 2008, the main long-term sickness absence benefit in the UK (Incapacity Benefit) has been replaced by Employment Support Allowance. Despite the importance of income maintenance for health and health inequalities, this change has been largely ignored within public health circles. After outlining these reforms and providing a historical policy context, this article utilises welfare reform theory and empirical literature to argue that these changes represent a broader international transformation from welfare to workfare states, the re-emergence of labour discipline, and a political shift in how people suffering from ill health are categorised as disabled or not and perceived as 'deserving' or 'undeserving' of state support. Finally, the case is made for the need to develop a new critical public health research and practice agenda around worklessness. [ABSTRACT FROM AUTHOR]\nCopyright of Critical Public Health is the property of Routledge and its content may not be copied or emailed to multiple sites or posted to a listserv without the copyright holder's express written permission. However, users may print, download, or email articles for individual use. This abstract may be abridged. No warranty is given about the accuracy of the copy. Users should refer to the original published version of the material for the full abstract. (Copyright applies to all Abstracts.)",
     "author": [
      {
       "family": "Bambra",
       "given": "Clare"
      },
      {
       "family": "Smith",
       "given": "Katherine E."
      }
     ],
     "container-title": "Critical Public Health",
     "id": "1787664/K78EW9JM",
     "issued": {
      "year": 2010
     },
     "page": "71-83",
     "page-first": "71",
     "title": "No longer deserving? Sickness benefit reform and the politics of (ill) health",
     "type": "article-journal",
     "volume": "20"
    },
    "1787664/L2WZI32J": {
     "author": [
      {
       "family": "Webster",
       "given": "Peter"
      }
     ],
     "container-title": "Temp - Tidsskrift for Historie",
     "id": "1787664/L2WZI32J",
     "issued": {
      "year": 2017
     },
     "language": "en",
     "page": "30-38",
     "page-first": "30",
     "title": "Digital contemporary history: Sources, tools, methods, issues",
     "type": "article-journal",
     "volume": "14"
    },
    "1787664/L4XIVCL5": {
     "author": [
      {
       "family": "Mold",
       "given": "Alex"
      },
      {
       "family": "Clark",
       "given": "Peder"
      },
      {
       "family": "Millward",
       "given": "Gareth"
      },
      {
       "family": "Payling",
       "given": "Daisy"
      }
     ],
     "event-place": "London",
     "id": "1787664/L4XIVCL5",
     "issued": {
      "year": 2019
     },
     "publisher": "Palgrave Macmillan",
     "publisher-place": "London",
     "title": "Placing the Public in Public Health in Postwar Britain",
     "type": "book"
    },
    "1787664/LJ6RX8WQ": {
     "ISBN": "978-3-319-94717-4",
     "author": [
      {
       "family": "Crane",
       "given": "Jennifer"
      }
     ],
     "event-place": "New York, NY",
     "id": "1787664/LJ6RX8WQ",
     "issued": {
      "year": 2018
     },
     "language": "en",
     "publisher": "Springer Berlin Heidelberg",
     "publisher-place": "New York, NY",
     "shortTitle": "Child protection in England, 1960-2000",
     "title": "Child protection in England, 1960-2000: expertise, experience, and emotion",
     "title-short": "Child protection in England, 1960-2000",
     "type": "book"
    },
    "1787664/MA5LPGW8": {
     "DOI": "10.1093/tcbh/hwv030",
     "URL": "https://academic.oup.com/tcbh/article-lookup/doi/10.1093/tcbh/hwv030",
     "abstract": "Much of the economic and other historiography of post-war Britain is shaped by the perceived failure of Britain to consistently match the growth rates of GDP experienced in other rich countries. These declinist narratives are commonly coupled to tendentious and ideologically driven analyses of economic, social and political developments. This article seeks to displace this declinist narrative by one focussing upon de-industrialization and its consequences. The argument is that de-industrialization, beginning in the 1950s, brought about such a range of profound changes, that it provides the best underpinning narrative for understanding late twentieth-century Britain. After suggesting why ‘growth’ and ‘decline’ are not the best terms for understanding this period, the article sets out the case for seeing the employment changes brought about by de-industrialization as crucial to many changes in economic welfare. De-industrialization not only increased wage inequalities and job insecurity, but also re-shaped the social security system and the pattern of public employment. In addition, deindustrialization has seriously compromised the aim of neo-liberalism to free the labour market from the influence of government.",
     "accessed": {
      "day": 28,
      "month": 10,
      "year": 2020
     },
     "author": [
      {
       "family": "Tomlinson",
       "given": "Jim"
      }
     ],
     "container-title": "Twentieth Century British History",
     "container-title-short": "Twentieth Century Brit Hist",
     "id": "1787664/MA5LPGW8",
     "issue": "1",
     "issued": {
      "year": 2016
     },
     "journalAbbreviation": "Twentieth Century Brit Hist",
     "language": "en",
     "page": "76-99",
     "page-first": "76",
     "shortTitle": "De-industrialization Not Decline",
     "title": "De-industrialization Not Decline: A New Meta-narrative for Post-war British History",
     "title-short": "De-industrialization Not Decline",
     "type": "article-journal",
     "volume": "27"
    },
    "1787664/N4NQ8UNF": {
     "ISBN": "0-8047-2450-4 978-0-8047-2450-0 0-8047-2451-2 978-0-8047-2451-7",
     "abstract": "How should one understand the nature and possibilities of political radicalism today? The political radical is normally thought of as someone who stands on the left, opposing backward-looking conservatism. In the present day, however, the left has turned defensive, while the right has become radical, advocating the free play of market forces no matter what obstacles of tradition or custom stand in their way. What explains such a curious twist of perspective? In answering this question, Giddens develops a new framework for radical politics, drawing on what he calls \"philosophic conservatism,\" but applying this outlook in the service of values normally associated with the left. The ecological crisis is at the core of this analysis, but is understood by Giddens in an unconventional way - as a response to a world in which modernity has run up against its limits as a social and moral order. The end of nature, as an entity existing independently of human intervention, and the end of tradition, combined with the impact of globalization, are the forces which now have to be confronted, made use of and coped with. This book provides a powerful interpretation of the rise of fundamentalism, of democracy, the persistence of gender divisions and the question of a normative political theory of violence. It will be essential reading for anyone seeking a novel approach to the political challenges we face at the turn of the twenty-first century.",
     "author": [
      {
       "family": "Giddens",
       "given": "Anthony"
      }
     ],
     "event-place": "Stanford, Calif.",
     "id": "1787664/N4NQ8UNF",
     "issued": {
      "year": 1994
     },
     "language": "English",
     "publisher": "Stanford University Press",
     "publisher-place": "Stanford, Calif.",
     "title": "Beyond left and right : the future of radical politics",
     "type": "book"
    },
    "1787664/N7UW3XW3": {
     "ISBN": "978-0-333-97392-9 978-0-333-97393-6",
     "author": [
      {
       "family": "Fielding",
       "given": "Steven"
      }
     ],
     "call-number": "JN1129.L32 F457",
     "event-place": "Houndmills, Basingstoke, Hampshire ; New York",
     "id": "1787664/N7UW3XW3",
     "issued": {
      "year": 2003
     },
     "note": "OCLC: 62323371",
     "number-of-pages": "247",
     "publisher": "PalgraveMacmillan",
     "publisher-place": "Houndmills, Basingstoke, Hampshire ; New York",
     "shortTitle": "The Labour Party",
     "title": "The Labour Party: continuity and change in the making of'new' labour",
     "title-short": "The Labour Party",
     "type": "book"
    },
    "1787664/N8YC25AZ": {
     "URL": "https://aoir.org/reports/ethics3.pdf",
     "author": [
      {
       "family": "franzke",
       "given": "aline shakti"
      },
      {
       "family": "Bechmann",
       "given": "Anja"
      },
      {
       "family": "Zimmer",
       "given": "Michael"
      },
      {
       "family": "Ess",
       "given": "Charles"
      },
      {
       "family": "Association of Internet Researchers",
       "given": ""
      }
     ],
     "id": "1787664/N8YC25AZ",
     "issued": {
      "year": 2020
     },
     "publisher": "Association of Internet Researchers",
     "shortTitle": "Ethical Guidelines 3.0.",
     "title": "Internet Research: Ethical Guidelines 3.0.",
     "title-short": "Ethical Guidelines 3.0.",
     "type": "report"
    },
    "1787664/NNT86VKV": {
     "editor": [
      {
       "family": "Brügger",
       "given": "Niels"
      },
      {
       "family": "Schroeder",
       "given": "Ralph"
      }
     ],
     "event-place": "London",
     "id": "1787664/NNT86VKV",
     "issued": {
      "year": 2017
     },
     "publisher": "UCL Press",
     "publisher-place": "London",
     "title": "The Web as History: Using Web Archives to Understand the Past and the Present",
     "type": "book"
    },
    "1787664/PYB3MHWP": {
     "DOI": "10.1111/j.1468-2338.2010.00569.x",
     "URL": "https://0-onlinelibrary-wiley-com.pugwash.lib.warwick.ac.uk/doi/10.1111/j.1468-2338.2010.00569.x",
     "abstract": "ABSTRACT This article argues that our understanding of absence and absenteeism, deriving from seminal studies in the sociology of work and employment, has been overtaken by hugely significant developments in political economy, regulation and employment relations. A new research agenda that addresses the changed organisational politics of absence management and the consequences for employees is urgently required.",
     "accessed": {
      "day": 5,
      "month": 4,
      "year": 2018
     },
     "author": [
      {
       "family": "Taylor",
       "given": "Phil"
      },
      {
       "family": "Cunningham",
       "given": "Ian"
      },
      {
       "family": "Newsome",
       "given": "Kirsty"
      },
      {
       "family": "Scholarios",
       "given": "Dora"
      }
     ],
     "container-title": "Industrial Relations Journal",
     "container-title-short": "Industrial Relations Journal",
     "id": "1787664/PYB3MHWP",
     "issue": "4",
     "issued": {
      "day": 16,
      "month": 7,
      "year": 2010
     },
     "journalAbbreviation": "Industrial Relations Journal",
     "page": "270-288",
     "page-first": "270",
     "shortTitle": "Too scared to go sick",
     "title": "‘Too scared to go sick’—reformulating the research agenda on sickness absence",
     "title-short": "Too scared to go sick",
     "type": "article-journal",
     "volume": "41"
    },
    "1787664/Q2FJIN7R": {
     "URL": "https://www.webarchive.org.uk/shine",
     "accessed": {
      "day": 5,
      "month": 12,
      "year": 2022
     },
     "author": [
      {
       "family": "UK Web Archive",
       "given": ""
      }
     ],
     "container-title": "SHINE",
     "id": "1787664/Q2FJIN7R",
     "title": "SHINE",
     "type": "webpage"
    },
    "1787664/QEP4R77C": {
     "author": [
      {
       "family": "Jones",
       "given": "David"
      }
     ],
     "container-title": "Daily Mail",
     "id": "1787664/QEP4R77C",
     "issued": {
      "day": 14,
      "month": 4,
      "year": 1998
     },
     "page": "22-23",
     "page-first": "22",
     "title": "Sign up here for Sick-note Britain",
     "type": "article-newspaper"
    },
    "1787664/R9Z5ZILT": {
     "URL": "https://www.ons.gov.uk/economy/nationalaccounts/uksectoraccounts/compendium/economicreview/april2019/longtermtrendsinukemployment1861to2018",
     "accessed": {
      "day": 28,
      "month": 11,
      "year": 2022
     },
     "author": [
      {
       "family": "Chiripanhura",
       "given": "Blessing"
      },
      {
       "family": "Wolf",
       "given": "Niklas"
      }
     ],
     "container-title": "Office for National Statistics",
     "id": "1787664/R9Z5ZILT",
     "issued": {
      "day": 29,
      "month": 4,
      "year": 2019
     },
     "title": "Long-term trends in UK employment: 1861 to 2018",
     "type": "webpage"
    },
    "1787664/RTIJXA7B": {
     "URL": "https://webarchive.nationalarchives.gov.uk/ukgwa/+/https://www.nationalarchives.gov.uk/about/20-year-rule.htm",
     "accessed": {
      "day": 28,
      "month": 11,
      "year": 2022
     },
     "author": [
      {
       "family": "The National Archives",
       "given": ""
      }
     ],
     "container-title": "The National Archives",
     "id": "1787664/RTIJXA7B",
     "title": "20-year rule",
     "type": "webpage"
    },
    "1787664/TQEMK9R7": {
     "DOI": "10.1136/bmj.312.7022.3",
     "URL": "http://www.bmj.com/content/312/7022/3",
     "abstract": "The unprecedented growth of the Internet presents a defining moment at the end of the millennium.1 The information age, long predicted, seems at last to be upon us. Yet the speed of its arrival has left most of the medical profession ill prepared to participate in it and unable to foresee its consequences for clinical practice.\n\nThrough the Internet, the public has access to a growing supply of information on health and disease, often of variable quality and relevance.2 As a result, providing information on health will no longer be the exclusive remit of health care professionals. The quantity of information on the Internet will continue to grow over the next few years, as will the proportion of people with access to it. Access is already widespread in some populations. In 1994, 46% of patients in one Californian clinic had access to email, 89% of them through their place of work.3 In some areas, proportionately more patients than doctors will have access to the Internet.\n\nHealth care information on the Internet has potential major benefits for patients. Numerous electronic discussion groups already allow patients to share experiences and some health related Internet sites offer email advice on a fee for service basis. Other organisations, including the BMJ, provide free access …",
     "accessed": {
      "day": 25,
      "month": 11,
      "year": 2022
     },
     "author": [
      {
       "family": "Coiera",
       "given": "Enrico"
      }
     ],
     "container-title": "BMJ",
     "container-title-short": "BMJ",
     "id": "1787664/TQEMK9R7",
     "issue": "7022",
     "issued": {
      "day": 6,
      "month": 1,
      "year": 1996
     },
     "journalAbbreviation": "BMJ",
     "language": "en",
     "note": "Publisher: British Medical Journal Publishing Group\nSection: Editorial\nPMID: 8555856",
     "page": "3-4",
     "page-first": "3",
     "title": "The Internet's challenge to health care provision",
     "type": "article-journal",
     "volume": "312"
    },
    "1787664/UGAJFFXF": {
     "DOI": "10.2307/588049",
     "URL": "https://www.jstor.org/stable/588049",
     "accessed": {
      "day": 18,
      "month": 10,
      "year": 2018
     },
     "author": [
      {
       "family": "Liddell",
       "given": "F. D. K."
      }
     ],
     "container-title": "The British Journal of Sociology",
     "id": "1787664/UGAJFFXF",
     "issue": "1",
     "issued": {
      "year": 1954
     },
     "page": "78-86",
     "page-first": "78",
     "title": "Attendance in the Coal-Mining Industry",
     "type": "article-journal",
     "volume": "5"
    },
    "1787664/VD5B2RK5": {
     "author": [
      {
       "family": "Loughran",
       "given": "Tracey"
      }
     ],
     "container-title": "Women's Periodicals and Print Culture in Britain, 1940s–2000s: The Postwar and Contemporary Record",
     "editor": [
      {
       "family": "Forster",
       "given": "Laurel"
      },
      {
       "family": "Hollows",
       "given": "Joanne"
      }
     ],
     "event-place": "Edinburgh",
     "id": "1787664/VD5B2RK5",
     "issued": {
      "year": 2020
     },
     "page": "133-149",
     "page-first": "133",
     "publisher": "Edinburgh University Press",
     "publisher-place": "Edinburgh",
     "shortTitle": "'The most helpful friends in the world'",
     "title": "'The most helpful friends in the world': Letters pages, expertise and emotion in British women's magazines, c. 1960–80",
     "title-short": "'The most helpful friends in the world'",
     "type": "chapter"
    },
    "1787664/VDJ3TAMB": {
     "ISBN": "978-0-19-103840-2",
     "URL": "http://public.eblib.com/choice/publicfullrecord.aspx?p=3564723",
     "accessed": {
      "day": 23,
      "month": 3,
      "year": 2016
     },
     "author": [
      {
       "family": "Bivins",
       "given": "Roberta E"
      }
     ],
     "event-place": "Oxford",
     "id": "1787664/VDJ3TAMB",
     "issued": {
      "year": 2015
     },
     "language": "English",
     "publisher": "Oxford University Press",
     "publisher-place": "Oxford",
     "shortTitle": "Contagious Communities",
     "title": "Contagious Communities: Medicine, Migration, and the NHS in Post-War Britain",
     "title-short": "Contagious Communities",
     "type": "book"
    },
    "1787664/VYK4CPD8": {
     "URL": "https://sshf.saxo.ku.dk/program-for-moeder/20220613__rsm_de_Program.pdf",
     "accessed": {
      "day": 28,
      "month": 11,
      "year": 2022
     },
     "author": [
      {
       "family": "Selskabet for Samtidshistorisk Forskning",
       "given": ""
      }
     ],
     "container-title": "Selskabet for Samtidshistorisk Forskning",
     "id": "1787664/VYK4CPD8",
     "issued": {
      "day": 13,
      "month": 6,
      "year": 2022
     },
     "shortTitle": "Årsmøde 2022",
     "title": "Selskabet for Samtidshistorisk Forskning, Årsmøde 2022",
     "title-short": "Årsmøde 2022",
     "type": "webpage"
    },
    "1787664/WT39P3GD": {
     "author": [
      {
       "family": "Department of Social Security",
       "given": ""
      }
     ],
     "event-place": "London",
     "genre": "Command Paper",
     "id": "1787664/WT39P3GD",
     "issued": {
      "month": 3,
      "year": 1998
     },
     "note": "Issue: Cm 3805",
     "number": "Cm 3805",
     "publisher": "TSO",
     "publisher-place": "London",
     "shortTitle": "Cm 3805",
     "title": "A New Contract for Welfare",
     "title-short": "Cm 3805",
     "type": "report"
    },
    "1787664/WYZBXYL3": {
     "ISBN": "978-1-84742-498-3",
     "call-number": "JN1129.L32 N493 1999",
     "editor": [
      {
       "family": "Powell",
       "given": "Martin A."
      }
     ],
     "event-place": "Bristol",
     "id": "1787664/WYZBXYL3",
     "issued": {
      "year": 1999
     },
     "note": "OCLC: 608549966",
     "number-of-pages": "1",
     "publisher": "Policy",
     "publisher-place": "Bristol",
     "shortTitle": "New Labour, new welfare state?",
     "title": "New Labour, new welfare state? the \"Third Way\" in British social policy",
     "title-short": "New Labour, new welfare state?",
     "type": "book"
    },
    "1787664/XLIV6QDH": {
     "DOI": "10.1080/09687599.2016.1218153",
     "URL": "https://doi.org/10.1080/09687599.2016.1218153",
     "abstract": "Iain Duncan Smith resigned as the UK’s Secretary of State for Work and Pensions in March 2016. While not invisible from the debate following his resignation, the fact that changes to social security policy for disabled people were central to Duncan Smith’s time as Secretary of State and central to his (at least public) reasons for resignation was lost in a focus on the internal machinations of the UK’s Conservative Party. In this short article, Duncan Smith’s resignation is used to examine the location of additional cost social security benefits for disabled people in Conservative thinking in contemporary Britain.",
     "accessed": {
      "day": 20,
      "month": 7,
      "year": 2020
     },
     "author": [
      {
       "family": "Grover",
       "given": "Chris"
      }
     ],
     "container-title": "Disability & Society",
     "id": "1787664/XLIV6QDH",
     "issue": "8",
     "issued": {
      "day": 13,
      "month": 9,
      "year": 2016
     },
     "note": "Publisher: Routledge\n_eprint: https://doi.org/10.1080/09687599.2016.1218153",
     "page": "1127-1131",
     "page-first": "1127",
     "shortTitle": "The end of an era?",
     "title": "The end of an era? The resignation of Iain Duncan Smith, Conservatism and social security benefits for disabled people",
     "title-short": "The end of an era?",
     "type": "article-journal",
     "volume": "31"
    },
    "1787664/XWA64DIX": {
     "URL": "https://pastandpresent.org.uk/rethinking-britain-in-the-nineties-postgraduate-blogger-awards/",
     "accessed": {
      "day": 28,
      "month": 11,
      "year": 2022
     },
     "author": [
      {
       "family": "Allen",
       "given": "Josh"
      }
     ],
     "container-title": "Past & Present",
     "id": "1787664/XWA64DIX",
     "issued": {
      "day": 6,
      "month": 11,
      "year": 2020
     },
     "title": "Rethinking Britain in the Nineties: Postgraduate Blogger Awards",
     "type": "webpage"
    },
    "1787664/Z7NA8QHY": {
     "URL": "https://hansard.parliament.uk/commons/1997-07-22/debates/19c305bd-20b0-4698-bebe-8a0452624373/SocialSecurityBill",
     "author": [
      {
       "family": "UK Parliament",
       "given": ""
      }
     ],
     "event-place": "London",
     "id": "1787664/Z7NA8QHY",
     "publisher": "UK Parliament",
     "publisher-place": "London",
     "title": "Parliamentary Debates (Commons)",
     "type": "report"
    },
    "1787664/ZASKDZJ8": {
     "abstract": "Recent studies of the social and political meanings of English science in the 17th century have often included only a cursory inspection of John Locke's work. Conversely, detailed studies of Locke's theory of knowledge have tended to refrain from taking into serious consideration the social context of English science in that period. This article explores the contribution of Locke's conception of experience to the rise of experimental philosophy as a new social force. Locke elaborated a doctrine that rendered human experience the natural and nurtured means by which agents could discharge their duty to God and realize their fight in God's dominion. Locke's account of the production of empirical knowledge thus delineated a theocentric system of a moral economy, which dovetailed with current advertisements of the new vocation of experimental philosophy. More particularly, Locke's debt to Boyle is manifested in their shared imagery of experience as a divine gift. While Boyle sought to encourage polite society to participate in cultivating the experimenter's gift, Locke propagated the view that proper conduct in the public sphere hinged on the recognition of the experimenter's findings as a new source of authority in everyday life.",
     "author": [
      {
       "family": "Ben-Chaim",
       "given": "Michael"
      }
     ],
     "container-title": "Studies in History & Philosophy of Science Part A",
     "issue": "3",
     "issued": {
      "date-parts": [
       [
        "2000",
        9
       ]
      ]
     },
     "journalAbbreviation": "Studies in History & Philosophy of Science Part A",
     "page": "473-501",
     "title": "Locke's Ideology of 'Common Sense'",
     "type": "article-journal",
     "volume": "31A"
    },
    "1787664/ZB5VMZLI": {
     "author": [
      {
       "family": "Forster",
       "given": "Laurel"
      }
     ],
     "event-place": "London",
     "id": "1787664/ZB5VMZLI",
     "issued": {
      "year": 2015
     },
     "publisher": "Bloomsbury Academic",
     "publisher-place": "London",
     "shortTitle": "Magazine Movements",
     "title": "Magazine Movements: Women's Culture, Feminisms and Media Form",
     "title-short": "Magazine Movements",
     "type": "book"
    },
    "1787664/ZBVM6GN6": {
     "ISBN": "978-0-333-94567-4 0-333-94567-0",
     "author": [
      {
       "family": "Oliver",
       "given": "Michael"
      },
      {
       "family": "Barnes",
       "given": "Colin"
      }
     ],
     "event-place": "Basingstoke",
     "id": "1787664/ZBVM6GN6",
     "issued": {
      "year": 2012
     },
     "language": "English",
     "publisher": "Palgrave Macmillan",
     "publisher-place": "Basingstoke",
     "title": "The new politics of disablement",
     "type": "book"
    },
    "1787664/ZDYPACI5": {
     "DOI": "10.1080/00076791.2019.1676235",
     "URL": "https://doi.org/10.1080/00076791.2019.1676235",
     "abstract": "Using a case study of one Scottish city, Dundee, this article addresses some of the tensions involved in the use of the concept of ‘de-industrialization’. Widely used to try to understand economic and social change in the post-war years, this term is complex and controversial. This article unravels some of this complexity, arguing that the term is potentially very helpful, but needs careful definition, nuanced application and recognition of its limits. The focus here is on the impact of changing industrial structures on the labour market. After analysing the processes of firm births and deaths, the study looks at the decline of the ‘old staple’ industry, jute manufacturing in Dundee. The next sections assess the role of multinational enterprises in re-shaping the employment structure of the city, before looking at the contraction of some of the city’s other industries. Attention then turns to the impact of all these changes on the economic welfare of the city. The final section draws conclusions about our general understanding of de-industrialization from the Dundee case.",
     "accessed": {
      "day": 28,
      "month": 10,
      "year": 2020
     },
     "author": [
      {
       "family": "Tomlinson",
       "given": "Jim"
      },
      {
       "family": "Phillips",
       "given": "Jim"
      },
      {
       "family": "Wright",
       "given": "Valerie"
      }
     ],
     "container-title": "Business History",
     "id": "1787664/ZDYPACI5",
     "issue": "0",
     "issued": {
      "day": 26,
      "month": 12,
      "year": 2019
     },
     "note": "Publisher: Routledge\n_eprint: https://doi.org/10.1080/00076791.2019.1676235",
     "page": "1-27",
     "page-first": "1",
     "shortTitle": "De-industrialization",
     "title": "De-industrialization: a case study of Dundee, 1951–2001, and its broad implications",
     "title-short": "De-industrialization",
     "type": "article-journal",
     "volume": "0"
    },
    "1787664/ZQDMRIWU": {
     "author": [
      {
       "family": "National Commission for the Protection of Human Subjects of Biomedical and Behavioral Research",
       "given": ""
      }
     ],
     "event-place": "Washington, D.C.",
     "id": "1787664/ZQDMRIWU",
     "issued": {
      "day": 18,
      "month": 4,
      "year": 1979
     },
     "publisher": "National Commission for the Protection of Human Subjects of Biomedical and Behavioral Research",
     "publisher-place": "Washington, D.C.",
     "title": "The Belmont Report: Ethical Principles and Guidelines for the Protection of Human Subjects of Research",
     "type": "report"
    },
    "undefined": {
     "DOI": "10.1111/j.1468-2338.2010.00569.x",
     "URL": "https://0-onlinelibrary-wiley-com.pugwash.lib.warwick.ac.uk/doi/10.1111/j.1468-2338.2010.00569.x",
     "abstract": "ABSTRACT This article argues that our understanding of absence and absenteeism, deriving from seminal studies in the sociology of work and employment, has been overtaken by hugely significant developments in political economy, regulation and employment relations. A new research agenda that addresses the changed organisational politics of absence management and the consequences for employees is urgently required.",
     "accessed": {
      "day": 5,
      "month": 4,
      "year": 2018
     },
     "author": [
      {
       "family": "Taylor",
       "given": "Phil"
      },
      {
       "family": "Cunningham",
       "given": "Ian"
      },
      {
       "family": "Newsome",
       "given": "Kirsty"
      },
      {
       "family": "Scholarios",
       "given": "Dora"
      }
     ],
     "container-title": "Industrial Relations Journal",
     "container-title-short": "Industrial Relations Journal",
     "id": "1787664/PYB3MHWP",
     "issue": "4",
     "issued": {
      "day": 16,
      "month": 7,
      "year": 2010
     },
     "journalAbbreviation": "Industrial Relations Journal",
     "page": "270-288",
     "page-first": "270",
     "shortTitle": "Too scared to go sick",
     "title": "‘Too scared to go sick’—reformulating the research agenda on sickness absence",
     "title-short": "Too scared to go sick",
     "type": "article-journal",
     "volume": "41"
    }
   }
  },
  "kernelspec": {
   "display_name": "Python 3 (ipykernel)",
   "language": "python",
   "name": "python3"
  },
  "language_info": {
   "codemirror_mode": {
    "name": "ipython",
    "version": 3
   },
   "file_extension": ".py",
   "mimetype": "text/x-python",
   "name": "python",
   "nbconvert_exporter": "python",
   "pygments_lexer": "ipython3",
   "version": "3.7.13"
  },
  "toc": {
   "base_numbering": "1",
   "nav_menu": {
    "height": "114px",
    "width": "210px"
   },
   "number_sections": true,
   "sideBar": true,
   "skip_h1_title": true,
   "title_cell": "Table of Contents",
   "title_sidebar": "Contents",
   "toc_cell": false,
   "toc_position": {},
   "toc_section_display": true,
   "toc_window_display": true
  }
 },
 "nbformat": 4,
 "nbformat_minor": 5
}
